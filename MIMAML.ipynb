{
 "cells": [
  {
   "cell_type": "code",
   "execution_count": 1,
   "id": "95c3c4ff",
   "metadata": {},
   "outputs": [],
   "source": [
    "import os\n",
    "from PIL import Image\n",
    "import copy\n",
    "import torch\n",
    "import torch.nn as nn\n",
    "import torch.optim as optim\n",
    "import torch.nn.functional as F\n",
    "from dataclasses import dataclass\n",
    "from typing import List\n",
    "import random\n",
    "from torchvision import transforms\n",
    "import numpy as np\n",
    "from tqdm import tqdm\n",
    "\n",
    "# -- To insert non functional code in the image to get augmented image --\n",
    "class CodeInserter:\n",
    "    def __init__(self, image: Image.Image):\n",
    "        self.image = image\n",
    "        self.flat_img = np.array(image).ravel()\n",
    "        self.opcodes = [0, 144, 204, 205]\n",
    "        self.patterns = [\n",
    "            [0],              # Simulates null padding\n",
    "            [144],            # Simulates single-byte NOP\n",
    "            [204],            # Simulates debug breakpoint\n",
    "            #[255],            # Simulates filler bytes\n",
    "            [102, 144]        # Simulates 2-byte NOP (0x66 0x90)\n",
    "        ]\n",
    "    def _generate_random_slice(self, min_len=40, max_len=400):\n",
    "        \"\"\"\n",
    "        Generates a slice of noise using one of several realistic strategies.\n",
    "        \"\"\"\n",
    "        slice_length = random.randint(min_len, max_len)\n",
    "        # Randomly choose a generation mode for this slice\n",
    "        generation_mode = random.choice(['pattern', 'structured_noise'])\n",
    "        if generation_mode == 'pattern':\n",
    "            # --- Strategy 1: Repeat a specific, ordered pattern ---\n",
    "            chosen_pattern = random.choice(self.patterns)\n",
    "            num_repeats = (slice_length // len(chosen_pattern)) + 1# Tile the pattern until it's long enough\n",
    "            tiled_pattern = np.tile(chosen_pattern, num_repeats)\n",
    "            return tiled_pattern[:slice_length]# Trim to the exact slice_length\n",
    "        else:\n",
    "            # --- Strategy 2: Create a random mix of opcodes ---\n",
    "            num_opcodes = random.randint(2, len(self.opcodes))\n",
    "            chosen_opcodes = random.sample(self.opcodes, num_opcodes)\n",
    "            return np.random.choice(chosen_opcodes, size=slice_length)\n",
    "    def _calculate_new_dimensions(self, new_pixel_count: int):\n",
    "        \"\"\"\n",
    "        Calculates new width and height, preserving aspect ratio.\n",
    "        This is a simpler, more direct way to do the math.\n",
    "        \"\"\"\n",
    "        og_w, og_h = self.image.size\n",
    "        aspect_ratio = og_w / og_h\n",
    "        new_h = int(np.sqrt(new_pixel_count / aspect_ratio))\n",
    "        new_w = int(new_h * aspect_ratio)\n",
    "        # Pad to ensure the new canvas is big enough\n",
    "        while new_w * new_h < new_pixel_count:\n",
    "            new_w += 1\n",
    "        return new_w, new_h\n",
    "    def augment(self):\n",
    "        \"\"\"\n",
    "        Applies the insertion augmentation and returns a new PIL Image.\n",
    "        \"\"\"\n",
    "        augmented_image = self.flat_img.copy()\n",
    "        num_insertions = random.randint(1, 3)\n",
    "        max_idx = len(augmented_image)\n",
    "        cut_points = np.random.choice(max_idx, size=num_insertions, replace=False)\n",
    "        cut_points.sort()\n",
    "        for point in reversed(cut_points):\n",
    "            insertion_slice = self._generate_random_slice()\n",
    "            augmented_image = np.insert(augmented_image, point, insertion_slice)\n",
    "        new_w, new_h = self._calculate_new_dimensions(len(augmented_image))\n",
    "        pad_len = (new_w * new_h) - len(augmented_image)# pad the array to fit the new rectangular shape\n",
    "        padded_image = np.pad(augmented_image, (0, pad_len), 'constant')\n",
    "        reshaped_image = padded_image.reshape((new_h, new_w)).astype(np.uint8)\n",
    "        final_image = Image.fromarray(reshaped_image) # construct PIL image\n",
    "        #final_image.resize((64, 64), Image.Resampling.LANCZOS)\n",
    "        return final_image.resize((64, 64), Image.Resampling.LANCZOS)\n",
    "\n",
    "# -- To duplicate functional code in the image to get augmented image --\n",
    "class CodeDuplicator:\n",
    "    def __init__(self, image: Image.Image):\n",
    "        self.image = image\n",
    "        self.flat_img = np.array(image).ravel()\n",
    "        self.img_height, self.img_width = image.height, image.width\n",
    "\n",
    "    def _get_duplication_parameters(self):\n",
    "        # Using a square patch with a side length between 8 and 20 pixels.\n",
    "        side_length = random.randint(8, 20)\n",
    "        #window = side_length * side_length\n",
    "        window =int(0.1 * self.flat_img.size)  # 10 % of the input image size\n",
    "\n",
    "        max_start = len(self.flat_img) - window\n",
    "        start_point = random.randint(0, max_start)\n",
    "        while True:\n",
    "            insertion_point = random.randint(0, max_start)\n",
    "            if abs(start_point - insertion_point) >= window:\n",
    "                break # found valid\n",
    "        return start_point, insertion_point, window\n",
    "\n",
    "    def augment(self):\n",
    "        \"\"\"\n",
    "        Applies the duplication augmentation and returns a new PIL Image.\n",
    "        This is the main public method to call.\n",
    "        \"\"\"\n",
    "        start, duplicate_at, window = self._get_duplication_parameters()\n",
    "        augmented_flat = self.flat_img.copy()\n",
    "        snippet = self.flat_img[start : start + window]\n",
    "        augmented_flat[duplicate_at : duplicate_at + window] = snippet\n",
    "        augmented_2d = np.reshape(augmented_flat, (self.img_height, self.img_width))\n",
    "        return Image.fromarray(augmented_2d.astype(np.uint8))\n",
    "\n",
    "# -- Sampling and creation of batches --\n",
    "class TaskSampler:\n",
    "    def __init__(self, resized_folder: str, families: list, meta_batch_size: int, n_way: int, k_shot: int, q_query: int):\n",
    "        self.resized_folder = resized_folder\n",
    "        self.families = families\n",
    "        self.meta_batch_size = meta_batch_size\n",
    "        self.n_way = n_way\n",
    "        self.k_shot = k_shot\n",
    "        self.q_query = q_query\n",
    "        # Pre-load all image paths for efficiency\n",
    "        self.image_paths_by_family = {\n",
    "            f: [os.path.join(resized_folder, f, img_name) for img_name in os.listdir(os.path.join(resized_folder, f))]\n",
    "            for f in self.families\n",
    "        }\n",
    "        # Define a single transform to convert PIL Images to PyTorch Tensors\n",
    "        self.to_tensor = transforms.ToTensor() # output on using on one image is (1, H, W)\n",
    "    def _create_input_tensor(self, base_img: Image.Image) -> torch.Tensor:\n",
    "        \"\"\"Creates the 3-channel tensor from a single PIL image.\"\"\"\n",
    "        # Instantiate your augmentation classes for each image\n",
    "        aug1_img = CodeInserter(base_img).augment()\n",
    "        aug2_img = CodeDuplicator(base_img).augment()\n",
    "        base_tensor = self.to_tensor(base_img)\n",
    "        aug1_tensor = self.to_tensor(aug1_img)\n",
    "        aug2_tensor = self.to_tensor(aug2_img)\n",
    "        # Note: to_tensor creates a (1, H, W) tensor, so we cat on dim 0\n",
    "        #return torch.cat([base_tensor, base_tensor, base_tensor], dim=0)\n",
    "        return torch.cat([base_tensor, aug1_tensor, aug2_tensor], dim=0)\n",
    "    def sample(self):\n",
    "        \"\"\"\n",
    "        Samples a full meta-batch of tasks.\n",
    "        Returns:\n",
    "            A tuple of (support_x, support_y, query_x, query_y) tensors.\n",
    "        \"\"\"\n",
    "        support_x_batch, support_y_batch = [], []\n",
    "        query_x_batch, query_y_batch = [], []\n",
    "\n",
    "        for _ in range(self.meta_batch_size):\n",
    "            support_x, support_y = [], []\n",
    "            query_x, query_y = [], []\n",
    "            task_families = random.sample(self.families, self.n_way) # has the names of the families present in this task\n",
    "\n",
    "            for i, family in enumerate(task_families):\n",
    "                all_paths = self.image_paths_by_family[family] # has all possible img path for specific family\n",
    "                sampled_paths = random.sample(all_paths, self.k_shot + self.q_query)\n",
    "                # Load images, augment, and convert to tensors\n",
    "                class_tensors = [self._create_input_tensor(Image.open(p)) for p in sampled_paths]\n",
    "                class_tensors = torch.stack(class_tensors) # Shape: (k+q, 3, 64, 64)\n",
    "\n",
    "                # Split into support and query sets\n",
    "                support_set = class_tensors[:self.k_shot]\n",
    "                query_set = class_tensors[self.k_shot:]\n",
    "                support_x.append(support_set)\n",
    "                query_x.append(query_set)\n",
    "                # Create labels\n",
    "                support_y.append(torch.full((self.k_shot,), i, dtype=torch.long))\n",
    "                query_y.append(torch.full((self.q_query,), i, dtype=torch.long))\n",
    "\n",
    "            # Aggregate all classes for this one task\n",
    "            support_x_batch.append(torch.cat(support_x, dim=0))\n",
    "            support_y_batch.append(torch.cat(support_y, dim=0))\n",
    "            query_x_batch.append(torch.cat(query_x, dim=0))\n",
    "            query_y_batch.append(torch.cat(query_y, dim=0))\n",
    "\n",
    "        # Stack all tasks to create the final meta-batch\n",
    "        return (torch.stack(support_x_batch), torch.stack(support_y_batch),\n",
    "                torch.stack(query_x_batch), torch.stack(query_y_batch))\n",
    "\n",
    "# -- Hyper-parameters for the model --\n",
    "@dataclass\n",
    "class Hyperparameters:\n",
    "    n_way : int # total number of classes we want to classify in\n",
    "    k_shot : int # support examples in each task\n",
    "    q_query : int # query examples for each task\n",
    "    inner_lr : float # inner loop (task specific) learning rate (alpha in the original paper)\n",
    "    meta_lr : float # meta-learning rate (beta in the original paper)\n",
    "    meta_batch_size : int # total number of tasks per meta-batch\n",
    "    traning_steps : int # number of meta-updates to perform\n",
    "    inner_steps : int # number of gradient steps ('n': from the original paper)\n",
    "    meta_training_families : List # the list of tasks (families) from which we sample\n",
    "    meta_testing_families : List # the list of tasks (families) which are unknown and used for testing\n",
    "    meta_val_families : List # the list of tasks (families) for validation\n",
    "\n",
    "# -- Handle the updates in Learning Rate --\n",
    "class LearningRate:\n",
    "    def __init__(self, initial_inner_lr: int):\n",
    "        self.alpha1 = initial_inner_lr\n",
    "    def _upate_alpha(self, inner_lr: int, inner_steps: int, task_num: int):\n",
    "        alpha_i = inner_lr\n",
    "        n = inner_steps\n",
    "        delta1 = self.alpha1/4\n",
    "        delta2 = self.alpha1 / (n +1)\n",
    "        if 1<= task_num < n +1: return alpha_i + delta1\n",
    "        if n+1<=task_num <2*n+1: return alpha_i - delta1\n",
    "        if 2*n+1<=task_num<3*n+1: return alpha_i + delta2\n",
    "        if 3*n+1<=task_num<4*n+1: return alpha_i - delta2\n",
    "    def _update_beta(self, meta_lr: int, inner_steps: int):\n",
    "        return meta_lr / inner_steps\n",
    "\n",
    "# -- Handles the accurate update of both learning rates --\n",
    "class LearningRateManager:\n",
    "    def __init__(self, initial_lr, meta_optimizer, inner_steps):\n",
    "        self.inner_lr = initial_lr\n",
    "        self.initial_lr = initial_lr\n",
    "        self.meta_optimizer = meta_optimizer\n",
    "        self.inner_steps = inner_steps\n",
    "        self.val_loss_plateau_counter = 0\n",
    "    def _get_inner_lr(self, task_idx, last_inner_lr):\n",
    "        # Implements the DILLR\n",
    "        period = 4*self.inner_steps\n",
    "        n= self.inner_steps\n",
    "        i = task_idx % period\n",
    "        delta1 = self.initial_lr/4.0\n",
    "        delta2 = self.initial_lr/(n+1.0)\n",
    "        updated_lr = 0.0\n",
    "        if 0<=i<n: updated_lr = last_inner_lr+delta1\n",
    "        if n<=i<2*n: updated_lr = last_inner_lr-delta1\n",
    "        if 2*n<=i<3*n: updated_lr = last_inner_lr+delta2\n",
    "        if 3*n<=i<4*n: updated_lr = last_inner_lr-delta2\n",
    "        return updated_lr\n",
    "    def _check_plateau(self, current_val_loss, best_val_loss):\n",
    "        # Implements the AOLLR for the meta_lr\n",
    "        if current_val_loss >= best_val_loss:\n",
    "            self.val_loss_plateau_counter+=1\n",
    "        else:\n",
    "            self.val_loss_plateau_counter = 0 # reset as better validation performance\n",
    "        if self.val_loss_plateau_counter >= self.inner_steps:\n",
    "        #if self.val_loss_plateau_counter >=10:\n",
    "            print(f'Validation loss has plateaued. Reducing meta_lr')\n",
    "            for g in self.meta_optimizer.param_groups:\n",
    "                g['lr'] *= (1 / self.inner_steps)\n",
    "            self.val_loss_plateau_counter = 0 # reset after reducing\n",
    "\n",
    "# -- Base Learner Model --\n",
    "class CNN(nn.Module):\n",
    "    def __init__(self, in_channel: int, n_way: int):\n",
    "        super(CNN, self).__init__()\n",
    "        # Define the 4 CNN blocks\n",
    "        self.layer1 = self._make_conv_block(in_channel, 64)\n",
    "        self.layer2 = self._make_conv_block(64,64)\n",
    "        self.layer3 = self._make_conv_block(64,64)\n",
    "        self.layer4 = self._make_conv_block(64,64)\n",
    "        self.dropout = nn.Dropout(0.25)\n",
    "        self.classifier = nn.Linear(64*4*4, n_way)\n",
    "    def _make_conv_block(self, in_channels: int, out_channels: int):\n",
    "        \"\"\" Helper function to make convolutional block\n",
    "        Parameters\n",
    "        ----------\n",
    "        in_channels : int\n",
    "            the input channels for the conv layer\n",
    "        out_channels : int\n",
    "            the output channel of the layer (total number of filters applied)\n",
    "        \"\"\"\n",
    "        return nn.Sequential(\n",
    "            nn.Conv2d(in_channels, out_channels, kernel_size=3, stride=1, padding=1),\n",
    "            nn.BatchNorm2d(out_channels),\n",
    "            nn.ELU(),\n",
    "            nn.MaxPool2d(2)\n",
    "        )\n",
    "    def forward(self, x:torch.Tensor) -> torch.Tensor:\n",
    "        # First Group\n",
    "        x = self.layer1(x)\n",
    "        x= self.layer2(x)\n",
    "        #print(f'Type of dropout: {type(self.dropout)}')\n",
    "        x = self.dropout(x)\n",
    "        # Second Group\n",
    "        x = self.layer3(x)\n",
    "        x = self.layer4(x)\n",
    "        x = self.dropout(x)\n",
    "        # Flatten the output for the linear layer\n",
    "        x = x.view(x.size(0), -1)\n",
    "        # Final logits\n",
    "        logits = self.classifier(x)\n",
    "        return logits\n"
   ]
  },
  {
   "cell_type": "code",
   "execution_count": 2,
   "id": "0bcd0929",
   "metadata": {},
   "outputs": [
    {
     "name": "stdout",
     "output_type": "stream",
     "text": [
      "Using: mps\n"
     ]
    }
   ],
   "source": [
    "device = torch.device(\"cuda\" if torch.cuda.is_available() else \"mps\")\n",
    "print(f'Using: {device}')\n"
   ]
  },
  {
   "cell_type": "code",
   "execution_count": 3,
   "id": "9d2bc6ca",
   "metadata": {},
   "outputs": [],
   "source": [
    "# Set hyper parameters\n",
    "hp = Hyperparameters(\n",
    "    n_way=2,\n",
    "    k_shot=5,\n",
    "    q_query=15,\n",
    "    inner_lr=0.001,\n",
    "    meta_lr=0.0002,\n",
    "    meta_batch_size=16,\n",
    "    traning_steps=100*100,\n",
    "    inner_steps=5,\n",
    "    meta_training_families=['Adialer.C', 'Agent.FYI', 'Allaple.A', 'Alueron.gen!J', 'Autorun.K', 'C2LOP.gen!g', 'Lolyda.AA2', 'Lolyda.AT',\n",
    "                        'Rbot!gen', 'Skintrim.N', 'Swizzor.gen!E', 'Swizzor.gen!I', 'VB.AT', 'Wintrim.BX', 'Yuner.A'],\n",
    "    meta_val_families=['Dontovo.A', 'Fakerean', 'Instantaccess', 'Lolyda.AA3', 'Obfuscator.AD'],\n",
    "    meta_testing_families=['Dialplatform.B', 'Allaple.L', 'C2LOP.P', 'Lolyda.AA1', 'Malex.gen!J']\n",
    ")\n",
    "# Set Task Sampler\n",
    "sampler = TaskSampler(\n",
    "    resized_folder='malimg_resized',\n",
    "    families=hp.meta_training_families,\n",
    "    meta_batch_size=hp.meta_batch_size,\n",
    "    n_way=hp.n_way,\n",
    "    k_shot=hp.k_shot,\n",
    "    q_query=hp.q_query\n",
    ")\n",
    "# Initialize the model and set it to device\n",
    "meta_model = CNN(in_channel=3, n_way=hp.n_way).to(device=device)\n",
    "meta_optimizer = optim.Adam(meta_model.parameters(), lr=hp.meta_lr)\n",
    "# Set Learning Rate\n",
    "lr_manager = LearningRateManager(initial_lr=hp.inner_lr, meta_optimizer=meta_optimizer, inner_steps=hp.inner_steps)\n"
   ]
  },
  {
   "cell_type": "code",
   "execution_count": 4,
   "id": "d5b7effc",
   "metadata": {},
   "outputs": [],
   "source": [
    "# Function to evaluate the model\n",
    "def evaluate(model, families, n_way, k_shot, q_query, inner_steps, inner_lr, num_eval_tasks=100):\n",
    "    model.eval()\n",
    "    total_correct = 0\n",
    "    total_samples = 0\n",
    "    total_loss = 0.0\n",
    "\n",
    "    # temp sampler for evaluation\n",
    "    eval_sampler = TaskSampler(resized_folder='malimg_resized', families=families,\n",
    "                               meta_batch_size=num_eval_tasks, n_way=n_way, k_shot=k_shot, q_query=q_query)\n",
    "\n",
    "    support_x, support_y, query_x, query_y = eval_sampler.sample()\n",
    "    support_x, support_y = support_x.to(device=device), support_y.to(device)\n",
    "    query_x, query_y = query_x.to(device=device), query_y.to(device)\n",
    "\n",
    "    for i in range(num_eval_tasks):\n",
    "        fast_model = copy.deepcopy(model)\n",
    "        sx, sy = support_x[i], support_y[i]\n",
    "        qx, qy = query_x[i], query_y[i]\n",
    "        inner_optimizer = optim.SGD(fast_model.parameters(), lr=inner_lr) # we use inner_lr for a stable and fair test.\n",
    "\n",
    "        # Adaptation loop (requires gradients)\n",
    "        for _ in range(inner_steps):\n",
    "            logits = fast_model(sx)\n",
    "            loss = F.cross_entropy(logits, sy)\n",
    "            inner_optimizer.zero_grad()\n",
    "            loss.backward()\n",
    "            inner_optimizer.step()\n",
    "\n",
    "        # Prediction on query set (does not require gradients)\n",
    "        with torch.no_grad():\n",
    "            query_logits = fast_model(qx)\n",
    "            query_loss = F.cross_entropy(query_logits, qy)\n",
    "            total_loss += query_loss.item()\n",
    "\n",
    "            preds = torch.argmax(query_logits, dim=1)\n",
    "            total_correct += (preds == qy).sum().item()\n",
    "            total_samples += len(qy)\n",
    "\n",
    "    # Calculate average metrics\n",
    "    avg_accuracy = total_correct / total_samples\n",
    "    avg_loss = total_loss / num_eval_tasks\n",
    "\n",
    "    return avg_accuracy, avg_loss"
   ]
  },
  {
   "cell_type": "code",
   "execution_count": null,
   "id": "0d12b978",
   "metadata": {},
   "outputs": [],
   "source": [
    "# import time\n",
    "# from tqdm import tqdm\n",
    "\n",
    "# #Logging and Chekpoint variables\n",
    "# best_val_acc = 0.0\n",
    "# best_val_loss = float('inf')\n",
    "# steps_per_epoch = 100\n",
    "# early_stopping_patience = 20\n",
    "# epochs_without_improvement = 0\n",
    "\n",
    "# print(f'Starting thr Mi-MAML training (2 way, 5 shot) on : {device}')\n",
    "# for step in tqdm(range(hp.traning_steps), desc=\"Mi-MAML training\"):\n",
    "#     meta_model.train()\n",
    "#     support_x, support_y, query_x, query_y = sampler.sample()\n",
    "#     support_x, support_y = support_x.to(device=device), support_y.to(device=device)\n",
    "#     query_x, query_y = query_x.to(device=device), query_y.to(device=device)\n",
    "\n",
    "#     meta_optimizer.zero_grad()\n",
    "#     total_query_loss = 0.0\n",
    "\n",
    "#     for i in range(hp.meta_batch_size):\n",
    "#         fast_model = copy.deepcopy(meta_model)\n",
    "#         sx, sy = support_x[i], support_y[i]\n",
    "#         qx, qy = query_x[i], query_y[i]\n",
    "#         current_inner_lr = lr_manager._get_inner_lr(task_idx=i)\n",
    "#         # Inner loop adaptation FOMAML\n",
    "#         for j in range(hp.inner_steps):\n",
    "#             logits = fast_model(sx)\n",
    "#             loss = F.cross_entropy(logits, sy)\n",
    "#             grads = torch.autograd.grad(loss, fast_model.parameters(), create_graph=False)\n",
    "#             # Update the fast_model parameters\n",
    "#             current_inner_lr = lr_manager._get_inner_lr(step*hp.meta_batch_size+i)\n",
    "#             for p, g in zip(fast_model.parameters(), grads):\n",
    "#                 p.data -= current_inner_lr*g\n",
    "#         # Calculate the loss on query\n",
    "#         query_logits = fast_model(qx)\n",
    "#         query_loss = F.cross_entropy(query_logits, qy)\n",
    "#         total_query_loss+= query_loss\n",
    "#     # Average the loss across all the tasks and do meta-update\n",
    "#     average_meta_ls = total_query_loss / hp.meta_batch_size\n",
    "#     average_meta_ls.backward()\n",
    "#     meta_optimizer.step()\n",
    "\n",
    "#     # Validation and checkpointing\n",
    "#     if (step+1) % steps_per_epoch == 0:\n",
    "#         epoch = (step + 1) // steps_per_epoch\n",
    "#         val_acc, val_loss = evaluate(\n",
    "#             meta_model, hp.meta_val_families, hp.n_way,\n",
    "#             hp.k_shot, hp.q_query, hp.inner_steps, hp.inner_lr\n",
    "#         )\n",
    "#         print(f\"Epoch {epoch}/{hp.traning_steps // steps_per_epoch} | Meta Loss: {average_meta_ls.item():.4f} | Val Acc: {val_acc:.4f}\")\n",
    "#         if val_acc > best_val_acc:\n",
    "#             best_val_acc = val_acc\n",
    "#             print(f\"  -> New best validation accuracy! Saving model...\")\n",
    "#             torch.save(meta_model.state_dict(), \"best_maml_model(2-5).pth\")\n",
    "#             epochs_without_improvement = 0 # reset the param for early stopping\n",
    "#         else: epochs_without_improvement+=1 # increment the no improvement counter\n",
    "#         # The paper doesn't mention using validation loss for AOLLR, but it's a common practice.\n",
    "#         if val_loss < best_val_loss:\n",
    "#             best_val_loss = val_loss\n",
    "#         # Call the plateau checker to adapt the outer learning rate\n",
    "#         lr_manager._check_plateau(val_loss, best_val_loss)\n",
    "#         if epochs_without_improvement>=early_stopping_patience:\n",
    "#             print(f\"\\nValidation accuracy has not improved for {early_stopping_patience} epochs. Stopping early.\")\n",
    "#             break\n",
    "\n",
    "# print('MI-MAML Training Done !')"
   ]
  },
  {
   "cell_type": "code",
   "execution_count": null,
   "id": "e10d5c09",
   "metadata": {},
   "outputs": [],
   "source": []
  },
  {
   "cell_type": "code",
   "execution_count": 5,
   "id": "10924a94",
   "metadata": {},
   "outputs": [
    {
     "name": "stdout",
     "output_type": "stream",
     "text": [
      "Training N way K shot Mi-MAML on :mps\n"
     ]
    },
    {
     "name": "stderr",
     "output_type": "stream",
     "text": [
      "Mi-Maml training:   1%|          | 100/10000 [01:15<5:03:25,  1.84s/it]"
     ]
    },
    {
     "name": "stdout",
     "output_type": "stream",
     "text": [
      "Epoch 1/100 | Last Task Query Loss: 0.0265 | Val Acc: 0.5197\n",
      "  -> New best validation accuracy! Saving model...\n"
     ]
    },
    {
     "name": "stderr",
     "output_type": "stream",
     "text": [
      "Mi-Maml training:   2%|▏         | 200/10000 [02:24<4:44:35,  1.74s/it]"
     ]
    },
    {
     "name": "stdout",
     "output_type": "stream",
     "text": [
      "Epoch 2/100 | Last Task Query Loss: 0.6933 | Val Acc: 0.5337\n",
      "  -> New best validation accuracy! Saving model...\n"
     ]
    },
    {
     "name": "stderr",
     "output_type": "stream",
     "text": [
      "Mi-Maml training:   3%|▎         | 300/10000 [03:39<5:27:57,  2.03s/it]"
     ]
    },
    {
     "name": "stdout",
     "output_type": "stream",
     "text": [
      "Epoch 3/100 | Last Task Query Loss: 0.2622 | Val Acc: 0.7103\n",
      "  -> New best validation accuracy! Saving model...\n"
     ]
    },
    {
     "name": "stderr",
     "output_type": "stream",
     "text": [
      "Mi-Maml training:   4%|▍         | 400/10000 [05:04<5:28:49,  2.06s/it]"
     ]
    },
    {
     "name": "stdout",
     "output_type": "stream",
     "text": [
      "Epoch 4/100 | Last Task Query Loss: 0.1385 | Val Acc: 0.9087\n",
      "  -> New best validation accuracy! Saving model...\n"
     ]
    },
    {
     "name": "stderr",
     "output_type": "stream",
     "text": [
      "Mi-Maml training:   5%|▌         | 500/10000 [06:27<5:24:24,  2.05s/it]"
     ]
    },
    {
     "name": "stdout",
     "output_type": "stream",
     "text": [
      "Epoch 5/100 | Last Task Query Loss: 0.0401 | Val Acc: 0.9177\n",
      "  -> New best validation accuracy! Saving model...\n",
      "Validation loss has plateaued. Reducing meta_lr\n"
     ]
    },
    {
     "name": "stderr",
     "output_type": "stream",
     "text": [
      "Mi-Maml training:   6%|▌         | 600/10000 [07:52<5:36:05,  2.15s/it]"
     ]
    },
    {
     "name": "stdout",
     "output_type": "stream",
     "text": [
      "Epoch 6/100 | Last Task Query Loss: 0.0343 | Val Acc: 0.9400\n",
      "  -> New best validation accuracy! Saving model...\n"
     ]
    },
    {
     "name": "stderr",
     "output_type": "stream",
     "text": [
      "Mi-Maml training:   7%|▋         | 700/10000 [09:15<5:12:32,  2.02s/it]"
     ]
    },
    {
     "name": "stdout",
     "output_type": "stream",
     "text": [
      "Epoch 7/100 | Last Task Query Loss: 1.4623 | Val Acc: 0.9480\n",
      "  -> New best validation accuracy! Saving model...\n"
     ]
    },
    {
     "name": "stderr",
     "output_type": "stream",
     "text": [
      "Mi-Maml training:   8%|▊         | 800/10000 [10:37<5:05:05,  1.99s/it]"
     ]
    },
    {
     "name": "stdout",
     "output_type": "stream",
     "text": [
      "Epoch 8/100 | Last Task Query Loss: 0.5970 | Val Acc: 0.9033\n"
     ]
    },
    {
     "name": "stderr",
     "output_type": "stream",
     "text": [
      "Mi-Maml training:   9%|▉         | 900/10000 [11:58<5:06:10,  2.02s/it]"
     ]
    },
    {
     "name": "stdout",
     "output_type": "stream",
     "text": [
      "Epoch 9/100 | Last Task Query Loss: 0.0048 | Val Acc: 0.9270\n"
     ]
    },
    {
     "name": "stderr",
     "output_type": "stream",
     "text": [
      "Mi-Maml training:  10%|█         | 1000/10000 [13:20<5:03:04,  2.02s/it]"
     ]
    },
    {
     "name": "stdout",
     "output_type": "stream",
     "text": [
      "Epoch 10/100 | Last Task Query Loss: 0.2758 | Val Acc: 0.9163\n",
      "Validation loss has plateaued. Reducing meta_lr\n"
     ]
    },
    {
     "name": "stderr",
     "output_type": "stream",
     "text": [
      "Mi-Maml training:  11%|█         | 1100/10000 [14:42<4:59:24,  2.02s/it]"
     ]
    },
    {
     "name": "stdout",
     "output_type": "stream",
     "text": [
      "Epoch 11/100 | Last Task Query Loss: 0.0410 | Val Acc: 0.9383\n"
     ]
    },
    {
     "name": "stderr",
     "output_type": "stream",
     "text": [
      "Mi-Maml training:  12%|█▏        | 1200/10000 [16:05<5:00:02,  2.05s/it]"
     ]
    },
    {
     "name": "stdout",
     "output_type": "stream",
     "text": [
      "Epoch 12/100 | Last Task Query Loss: 0.0180 | Val Acc: 0.9567\n",
      "  -> New best validation accuracy! Saving model...\n"
     ]
    },
    {
     "name": "stderr",
     "output_type": "stream",
     "text": [
      "Mi-Maml training:  13%|█▎        | 1300/10000 [17:33<5:33:04,  2.30s/it]"
     ]
    },
    {
     "name": "stdout",
     "output_type": "stream",
     "text": [
      "Epoch 13/100 | Last Task Query Loss: 0.1086 | Val Acc: 0.9293\n"
     ]
    },
    {
     "name": "stderr",
     "output_type": "stream",
     "text": [
      "Mi-Maml training:  14%|█▍        | 1400/10000 [19:11<5:28:07,  2.29s/it]"
     ]
    },
    {
     "name": "stdout",
     "output_type": "stream",
     "text": [
      "Epoch 14/100 | Last Task Query Loss: 0.0110 | Val Acc: 0.9237\n"
     ]
    },
    {
     "name": "stderr",
     "output_type": "stream",
     "text": [
      "Mi-Maml training:  15%|█▌        | 1500/10000 [20:44<5:26:52,  2.31s/it]"
     ]
    },
    {
     "name": "stdout",
     "output_type": "stream",
     "text": [
      "Epoch 15/100 | Last Task Query Loss: 0.0637 | Val Acc: 0.9137\n",
      "Validation loss has plateaued. Reducing meta_lr\n"
     ]
    },
    {
     "name": "stderr",
     "output_type": "stream",
     "text": [
      "Mi-Maml training:  16%|█▌        | 1600/10000 [24:06<58:23:06, 25.02s/it]"
     ]
    },
    {
     "name": "stdout",
     "output_type": "stream",
     "text": [
      "Epoch 16/100 | Last Task Query Loss: 0.2355 | Val Acc: 0.9307\n"
     ]
    },
    {
     "name": "stderr",
     "output_type": "stream",
     "text": [
      "Mi-Maml training:  17%|█▋        | 1700/10000 [39:23<4:00:02,  1.74s/it]   "
     ]
    },
    {
     "name": "stdout",
     "output_type": "stream",
     "text": [
      "Epoch 17/100 | Last Task Query Loss: 0.0158 | Val Acc: 0.9173\n"
     ]
    },
    {
     "name": "stderr",
     "output_type": "stream",
     "text": [
      "Mi-Maml training:  18%|█▊        | 1800/10000 [40:32<3:56:50,  1.73s/it]"
     ]
    },
    {
     "name": "stdout",
     "output_type": "stream",
     "text": [
      "Epoch 18/100 | Last Task Query Loss: 0.0329 | Val Acc: 0.9410\n"
     ]
    },
    {
     "name": "stderr",
     "output_type": "stream",
     "text": [
      "Mi-Maml training:  19%|█▉        | 1900/10000 [41:41<3:55:34,  1.74s/it]"
     ]
    },
    {
     "name": "stdout",
     "output_type": "stream",
     "text": [
      "Epoch 19/100 | Last Task Query Loss: 0.2346 | Val Acc: 0.9593\n",
      "  -> New best validation accuracy! Saving model...\n"
     ]
    },
    {
     "name": "stderr",
     "output_type": "stream",
     "text": [
      "Mi-Maml training:  20%|██        | 2000/10000 [42:56<4:27:16,  2.00s/it]"
     ]
    },
    {
     "name": "stdout",
     "output_type": "stream",
     "text": [
      "Epoch 20/100 | Last Task Query Loss: 0.0002 | Val Acc: 0.9267\n",
      "Validation loss has plateaued. Reducing meta_lr\n"
     ]
    },
    {
     "name": "stderr",
     "output_type": "stream",
     "text": [
      "Mi-Maml training:  21%|██        | 2100/10000 [52:22<3:47:45,  1.73s/it]   "
     ]
    },
    {
     "name": "stdout",
     "output_type": "stream",
     "text": [
      "Epoch 21/100 | Last Task Query Loss: 0.2739 | Val Acc: 0.9730\n",
      "  -> New best validation accuracy! Saving model...\n"
     ]
    },
    {
     "name": "stderr",
     "output_type": "stream",
     "text": [
      "Mi-Maml training:  22%|██▏       | 2200/10000 [53:31<3:45:17,  1.73s/it]"
     ]
    },
    {
     "name": "stdout",
     "output_type": "stream",
     "text": [
      "Epoch 22/100 | Last Task Query Loss: 0.0538 | Val Acc: 0.9380\n"
     ]
    },
    {
     "name": "stderr",
     "output_type": "stream",
     "text": [
      "Mi-Maml training:  23%|██▎       | 2300/10000 [54:41<3:53:46,  1.82s/it]"
     ]
    },
    {
     "name": "stdout",
     "output_type": "stream",
     "text": [
      "Epoch 23/100 | Last Task Query Loss: 0.0227 | Val Acc: 0.9413\n"
     ]
    },
    {
     "name": "stderr",
     "output_type": "stream",
     "text": [
      "Mi-Maml training:  24%|██▍       | 2400/10000 [56:01<4:16:33,  2.03s/it]"
     ]
    },
    {
     "name": "stdout",
     "output_type": "stream",
     "text": [
      "Epoch 24/100 | Last Task Query Loss: 0.0006 | Val Acc: 0.9257\n"
     ]
    },
    {
     "name": "stderr",
     "output_type": "stream",
     "text": [
      "Mi-Maml training:  25%|██▌       | 2500/10000 [57:23<4:12:14,  2.02s/it]"
     ]
    },
    {
     "name": "stdout",
     "output_type": "stream",
     "text": [
      "Epoch 25/100 | Last Task Query Loss: 0.0001 | Val Acc: 0.9317\n",
      "Validation loss has plateaued. Reducing meta_lr\n"
     ]
    },
    {
     "name": "stderr",
     "output_type": "stream",
     "text": [
      "Mi-Maml training:  26%|██▌       | 2600/10000 [58:45<4:09:08,  2.02s/it]"
     ]
    },
    {
     "name": "stdout",
     "output_type": "stream",
     "text": [
      "Epoch 26/100 | Last Task Query Loss: 0.0379 | Val Acc: 0.9113\n"
     ]
    },
    {
     "name": "stderr",
     "output_type": "stream",
     "text": [
      "Mi-Maml training:  27%|██▋       | 2700/10000 [1:00:08<4:07:35,  2.04s/it]"
     ]
    },
    {
     "name": "stdout",
     "output_type": "stream",
     "text": [
      "Epoch 27/100 | Last Task Query Loss: 0.0239 | Val Acc: 0.9250\n"
     ]
    },
    {
     "name": "stderr",
     "output_type": "stream",
     "text": [
      "Mi-Maml training:  28%|██▊       | 2800/10000 [1:01:32<4:09:31,  2.08s/it]"
     ]
    },
    {
     "name": "stdout",
     "output_type": "stream",
     "text": [
      "Epoch 28/100 | Last Task Query Loss: 0.1048 | Val Acc: 0.9443\n"
     ]
    },
    {
     "name": "stderr",
     "output_type": "stream",
     "text": [
      "Mi-Maml training:  29%|██▉       | 2900/10000 [1:02:57<4:08:43,  2.10s/it]"
     ]
    },
    {
     "name": "stdout",
     "output_type": "stream",
     "text": [
      "Epoch 29/100 | Last Task Query Loss: 0.0049 | Val Acc: 0.9360\n"
     ]
    },
    {
     "name": "stderr",
     "output_type": "stream",
     "text": [
      "Mi-Maml training:  30%|███       | 3000/10000 [1:04:23<4:08:20,  2.13s/it]"
     ]
    },
    {
     "name": "stdout",
     "output_type": "stream",
     "text": [
      "Epoch 30/100 | Last Task Query Loss: 0.0263 | Val Acc: 0.9433\n",
      "Validation loss has plateaued. Reducing meta_lr\n"
     ]
    },
    {
     "name": "stderr",
     "output_type": "stream",
     "text": [
      "Mi-Maml training:  31%|███       | 3100/10000 [1:05:49<4:04:30,  2.13s/it]"
     ]
    },
    {
     "name": "stdout",
     "output_type": "stream",
     "text": [
      "Epoch 31/100 | Last Task Query Loss: 0.0422 | Val Acc: 0.9227\n"
     ]
    },
    {
     "name": "stderr",
     "output_type": "stream",
     "text": [
      "Mi-Maml training:  32%|███▏      | 3200/10000 [1:07:16<3:59:28,  2.11s/it]"
     ]
    },
    {
     "name": "stdout",
     "output_type": "stream",
     "text": [
      "Epoch 32/100 | Last Task Query Loss: 0.0000 | Val Acc: 0.8897\n"
     ]
    },
    {
     "name": "stderr",
     "output_type": "stream",
     "text": [
      "Mi-Maml training:  33%|███▎      | 3300/10000 [1:08:43<4:02:53,  2.18s/it]"
     ]
    },
    {
     "name": "stdout",
     "output_type": "stream",
     "text": [
      "Epoch 33/100 | Last Task Query Loss: 0.7013 | Val Acc: 0.9313\n"
     ]
    },
    {
     "name": "stderr",
     "output_type": "stream",
     "text": [
      "Mi-Maml training:  34%|███▍      | 3400/10000 [1:10:11<3:57:34,  2.16s/it]"
     ]
    },
    {
     "name": "stdout",
     "output_type": "stream",
     "text": [
      "Epoch 34/100 | Last Task Query Loss: 0.7918 | Val Acc: 0.9203\n"
     ]
    },
    {
     "name": "stderr",
     "output_type": "stream",
     "text": [
      "Mi-Maml training:  35%|███▌      | 3500/10000 [1:11:38<3:53:14,  2.15s/it]"
     ]
    },
    {
     "name": "stdout",
     "output_type": "stream",
     "text": [
      "Epoch 35/100 | Last Task Query Loss: 0.7051 | Val Acc: 0.9013\n",
      "Validation loss has plateaued. Reducing meta_lr\n"
     ]
    },
    {
     "name": "stderr",
     "output_type": "stream",
     "text": [
      "Mi-Maml training:  36%|███▌      | 3600/10000 [1:13:06<3:48:49,  2.15s/it]"
     ]
    },
    {
     "name": "stdout",
     "output_type": "stream",
     "text": [
      "Epoch 36/100 | Last Task Query Loss: 0.1698 | Val Acc: 0.9407\n"
     ]
    },
    {
     "name": "stderr",
     "output_type": "stream",
     "text": [
      "Mi-Maml training:  37%|███▋      | 3700/10000 [1:14:41<4:25:31,  2.53s/it]"
     ]
    },
    {
     "name": "stdout",
     "output_type": "stream",
     "text": [
      "Epoch 37/100 | Last Task Query Loss: 0.0308 | Val Acc: 0.9520\n"
     ]
    },
    {
     "name": "stderr",
     "output_type": "stream",
     "text": [
      "Mi-Maml training:  38%|███▊      | 3800/10000 [1:16:14<3:51:11,  2.24s/it]"
     ]
    },
    {
     "name": "stdout",
     "output_type": "stream",
     "text": [
      "Epoch 38/100 | Last Task Query Loss: 0.0613 | Val Acc: 0.9067\n"
     ]
    },
    {
     "name": "stderr",
     "output_type": "stream",
     "text": [
      "Mi-Maml training:  39%|███▉      | 3900/10000 [1:17:43<3:41:58,  2.18s/it]"
     ]
    },
    {
     "name": "stdout",
     "output_type": "stream",
     "text": [
      "Epoch 39/100 | Last Task Query Loss: 0.2866 | Val Acc: 0.9537\n"
     ]
    },
    {
     "name": "stderr",
     "output_type": "stream",
     "text": [
      "Mi-Maml training:  40%|████      | 4000/10000 [1:19:13<3:38:20,  2.18s/it]"
     ]
    },
    {
     "name": "stdout",
     "output_type": "stream",
     "text": [
      "Epoch 40/100 | Last Task Query Loss: 0.0052 | Val Acc: 0.9360\n",
      "Validation loss has plateaued. Reducing meta_lr\n"
     ]
    },
    {
     "name": "stderr",
     "output_type": "stream",
     "text": [
      "Mi-Maml training:  41%|████      | 4099/10000 [1:20:43<1:56:12,  1.18s/it]"
     ]
    },
    {
     "name": "stdout",
     "output_type": "stream",
     "text": [
      "Epoch 41/100 | Last Task Query Loss: 0.0158 | Val Acc: 0.9357\n",
      "\n",
      "Validation accuracy has not improved for 20 epochs. Stopping early.\n",
      "Mi-MAML Trained !\n"
     ]
    },
    {
     "name": "stderr",
     "output_type": "stream",
     "text": [
      "\n"
     ]
    }
   ],
   "source": [
    "# --- Refactored Algorithm ---\n",
    "from tqdm import tqdm\n",
    "# logging and early stopping parameters\n",
    "last_task_query_loss = 0\n",
    "best_val_acc = 0.0\n",
    "best_val_loss = float('inf')\n",
    "steps_per_epoch = 100\n",
    "early_stopping_patience = 20\n",
    "epochs_without_improvement = 0\n",
    "#prev_inner_lr = hp.inner_lr\n",
    "\n",
    "# Mi-MAL:\n",
    "print(f'Training N way K shot Mi-MAML on :{device}')\n",
    "for step in tqdm(range(hp.traning_steps), desc='Mi-Maml training'):\n",
    "    support_x, support_y, query_x, query_y = sampler.sample()\n",
    "    support_x, support_y = support_x.to(device=device), support_y.to(device=device)\n",
    "    query_x, query_y = query_x.to(device=device), query_y.to(device=device)\n",
    "    meta_optimizer.zero_grad()\n",
    "    prev_inner_lr = hp.inner_lr # resetting the initial_inner_lr value used\n",
    "\n",
    "    for i in range(hp.meta_batch_size):\n",
    "        sx, sy = support_x[i], support_y[i]\n",
    "        qx, qy = query_x[i], query_y[i]\n",
    "\n",
    "        fast_model = copy.deepcopy(meta_model)\n",
    "        # Get the current lr for the task\n",
    "        current_lr = lr_manager._get_inner_lr(i,prev_inner_lr)\n",
    "        prev_inner_lr = current_lr\n",
    "        inner_optimizer = optim.SGD(fast_model.parameters(), lr=current_lr)\n",
    "        for _ in range(hp.inner_steps):\n",
    "            logits = fast_model(sx)\n",
    "            loss = F.cross_entropy(logits, sy)\n",
    "            inner_optimizer.zero_grad()\n",
    "            loss.backward()\n",
    "            inner_optimizer.step()\n",
    "        # calculate the meta-loss on the query set using the adapted model\n",
    "        query_logits = fast_model(qx)\n",
    "        query_loss = F.cross_entropy(query_logits, qy)\n",
    "        last_task_query_loss = query_loss\n",
    "        # calculate the gradients of the query loss wrt the fast model parameters\n",
    "        fast_grads = torch.autograd.grad(query_loss, fast_model.parameters())\n",
    "        # transfer the learning from the temporary model to the main one\n",
    "        with torch.no_grad():\n",
    "            for p_meta, g_fast in zip(meta_model.parameters(), fast_grads):\n",
    "                # We add the gradient divided by the batch size to average them across all tasks\n",
    "                if p_meta.grad is None:\n",
    "                    p_meta.grad = g_fast / hp.meta_batch_size\n",
    "                else:\n",
    "                    p_meta.grad += g_fast / hp.meta_batch_size\n",
    "\n",
    "    # After accumulating gradients from all tasks, take one meta-step\n",
    "    meta_optimizer.step()\n",
    "    # Validation and checkpointing\n",
    "    if (step+1) % steps_per_epoch == 0:\n",
    "        epoch = (step + 1) // steps_per_epoch\n",
    "        val_acc, val_loss = evaluate(\n",
    "            meta_model, hp.meta_val_families, hp.n_way,\n",
    "            hp.k_shot, hp.q_query, hp.inner_steps, hp.inner_lr\n",
    "        )\n",
    "        print(f\"Epoch {epoch}/{hp.traning_steps // steps_per_epoch} | Last Task Query Loss: {last_task_query_loss.item():.4f} | Val Acc: {val_acc:.4f}\")\n",
    "        if val_acc > best_val_acc:\n",
    "            best_val_acc = val_acc\n",
    "            print(f\"  -> New best validation accuracy! Saving model...\")\n",
    "            torch.save(meta_model.state_dict(), \"best_maml_model(2-5).pth\")\n",
    "            epochs_without_improvement = 0 # reset the param for early stopping\n",
    "        else: epochs_without_improvement+=1 # increment the no improvement counter\n",
    "        # The paper doesn't mention using validation loss for AOLLR, but it's a common practice.\n",
    "        if val_loss < best_val_loss:\n",
    "            best_val_loss = val_loss\n",
    "        # Call the plateau checker to adapt the outer learning rate\n",
    "        lr_manager._check_plateau(val_loss, best_val_loss)\n",
    "        if epochs_without_improvement>=early_stopping_patience:\n",
    "            print(f\"\\nValidation accuracy has not improved for {early_stopping_patience} epochs. Stopping early.\")\n",
    "            break\n",
    "print(f'Mi-MAML Trained !')\n"
   ]
  },
  {
   "cell_type": "code",
   "execution_count": 7,
   "id": "42114121",
   "metadata": {},
   "outputs": [
    {
     "name": "stdout",
     "output_type": "stream",
     "text": [
      "\n",
      "Training finished. Loading best model and evaluating on the test set.\n",
      "\n",
      "Final Test Accuracy: 0.5000\n"
     ]
    }
   ],
   "source": [
    "# --- MISSING PIECE: Final Testing ---\n",
    "print(\"\\nTraining finished. Loading best model and evaluating on the test set.\")\n",
    "meta_model.load_state_dict(torch.load(\"best_maml_model.pth\"))\n",
    "#test_accuracy = evaluate(meta_model, hp.meta_testing_families, hp.n_way, hp.k_shot, hp.q_query)\n",
    "test_acc, test_loss = evaluate(\n",
    "            meta_model, hp.meta_testing_families, hp.n_way,\n",
    "            hp.k_shot, hp.q_query, hp.inner_steps, hp.inner_lr\n",
    "        )\n",
    "print(f\"\\nFinal Test Accuracy: {test_acc:.4f}\")"
   ]
  },
  {
   "cell_type": "code",
   "execution_count": null,
   "id": "f4403dad",
   "metadata": {},
   "outputs": [],
   "source": [
    "hp"
   ]
  },
  {
   "cell_type": "markdown",
   "id": "916bd482",
   "metadata": {},
   "source": [
    "# Observations:\n",
    "## Case 1: (2way, 1shot):\n",
    "    - Hyperparameters(n_way=2, k_shot=1, q_query=15, inner_lr=0.01, meta_lr=0.001, meta_batch_size=16,.....)\n",
    "    - Random test has 50 percent accuracy (equivalent to guess) = pretty bad\n",
    "    - stagnant validation accuracy\n",
    "    - unstable training\n",
    "## Case 2: (2way, 5shot): model has (2-5)\n",
    "    - Hyperparameters(n_way=2, k_shot=5, q_query=15, inner_lr=0.001, meta_lr=0.0002, meta_batch_size=16,.......)\n",
    "    - outer loop meta_lr will be updated after 10 consequent no changes in val_loss\n",
    "## Case 3: (2way, 5shot): model has (2-5); new training algo; refactored LR update rule\n",
    "    - Hyperparameters(n_way=2, k_shot=5, q_query=15, inner_lr=0.001, meta_lr=0.0002, meta_batch_size=16,.......)\n",
    "    - The issue is that the validation accuracy now is 97%, but when we do the testing accuracy we get like 50%\n",
    "    - this is traditonally called as meta-overfitting\n",
    "    - model has successfully learned a \"strategy\" (a good weight initialization) that is excellent for adapting to the types of malware in your training and validation sets. However, it appears the five malware families you've reserved for the test set are so visually different from the others that this learned strategy completely fails.\n",
    "    - In short, the model didn't learn a truly general rule for \"classifying malware.\" It learned a more specific rule for \"classifying malware that looks and behaves like the 20 families I've seen in training and validation.\"\n",
    "    - most likely cause is an \"unlucky\" or biased split of the 25 malware families.\n",
    "    - In research, results are often averaged over several of these random splits to ensure they are robust.\n",
    "    - Visualize the families, and re-run it with a newer split"
   ]
  },
  {
   "cell_type": "markdown",
   "id": "cea0c07d",
   "metadata": {},
   "source": [
    "# Actionable steps:\n",
    "- Tune the learning rates : `inner_lr = 0.001`,`meta_lr=0.0002`\n",
    "- increase `k_shot` since 1-shot is the hardest case\n",
    "- simplify augmentation: stack the same base image instead of 3 different `return torch.cat([base_tensor, base_tensor, base_tensor], dim=0)`\n",
    "- increase patience for learning rate scheduler: In your LearningRateManager, try increasing the patience value. Instead of checking if self.val_loss_plateau_counter >= self.inner_steps, try a fixed, larger number like if self.val_loss_plateau_counter >= 10."
   ]
  },
  {
   "cell_type": "markdown",
   "id": "bbb93c9d",
   "metadata": {},
   "source": [
    "# Sanity Checks"
   ]
  },
  {
   "cell_type": "code",
   "execution_count": null,
   "id": "00f7407b",
   "metadata": {},
   "outputs": [],
   "source": [
    "import matplotlib.pyplot as plt\n",
    "\n",
    "# Get one meta-batch\n",
    "support_x, support_y, query_x, query_y = sampler.sample()\n",
    "\n",
    "# Isolate the first task in the batch\n",
    "task_sx = support_x[0]\n",
    "task_sy = support_y[0]\n",
    "\n",
    "# Check labels for the first class (label 0)\n",
    "class_0_images = task_sx[task_sy == 0] # Get all support images for class 0\n",
    "\n",
    "print(f\"Displaying {len(class_0_images)} support images for class 0...\")\n",
    "fig, axes = plt.subplots(1, len(class_0_images), figsize=(10, 3))\n",
    "for i, img_tensor in enumerate(class_0_images):\n",
    "    # We only plot the first channel (the original grayscale image)\n",
    "    img = img_tensor[0].cpu().numpy()\n",
    "    axes[i].imshow(img, cmap='gray')\n",
    "    axes[i].set_title(f\"Label: 0\")\n",
    "    axes[i].axis('off')\n",
    "plt.show()"
   ]
  },
  {
   "cell_type": "code",
   "execution_count": null,
   "id": "cb33f04d",
   "metadata": {},
   "outputs": [],
   "source": [
    "from tqdm import tqdm\n",
    "# --- Start of the Corrected Loop ---\n",
    "# This loop should be placed after you have sampled and moved your one fixed batch to the device.\n",
    "print(f\"--- Starting Sanity Check: Overfitting a single batch:{device} ---\")\n",
    "# Sample ONE fixed batch of data\n",
    "fixed_support_x, fixed_support_y, fixed_query_x, fixed_query_y = sampler.sample()\n",
    "\n",
    "# Move it to the device once\n",
    "fixed_support_x = fixed_support_x.to(device)\n",
    "fixed_support_y = fixed_support_y.to(device)\n",
    "fixed_query_x = fixed_query_x.to(device)\n",
    "fixed_query_y = fixed_query_y.to(device)\n",
    "for step in tqdm(range(100), desc=\"Sanity Check Training\"):\n",
    "    # Use the fixed batch of data for every step in this sanity check\n",
    "    support_x, support_y = fixed_support_x, fixed_support_y\n",
    "    query_x, query_y = fixed_query_x, fixed_query_y\n",
    "\n",
    "    # We must zero the gradients of the main model at the start of each meta-step\n",
    "    meta_optimizer.zero_grad()\n",
    "\n",
    "    # Loop over all tasks in the meta-batch\n",
    "    for i in range(hp.meta_batch_size):\n",
    "        sx, sy = support_x[i], support_y[i]\n",
    "        qx, qy = query_x[i], query_y[i]\n",
    "\n",
    "        # 1. Create a temporary model for this task's adaptation\n",
    "        fast_model = copy.deepcopy(meta_model)\n",
    "\n",
    "        # 2. Adapt on the support set using a fresh inner optimizer\n",
    "        #current_inner_lr = lr_manager._get_inner_lr(step * hp.meta_batch_size + i)\n",
    "        current_inner_lr = lr_manager._get_inner_lr(i)\n",
    "        inner_optimizer = optim.SGD(fast_model.parameters(), lr=current_inner_lr)\n",
    "        for _ in range(hp.inner_steps):\n",
    "            logits = fast_model(sx)\n",
    "            loss = F.cross_entropy(logits, sy)\n",
    "            inner_optimizer.zero_grad()\n",
    "            loss.backward()\n",
    "            inner_optimizer.step()\n",
    "\n",
    "        # 3. Calculate the meta-loss on the query set using the adapted model\n",
    "        query_loss = F.cross_entropy(fast_model(qx), qy)\n",
    "\n",
    "        # 4. THE FIX: Calculate gradients of this query loss w.r.t the fast_model's params.\n",
    "        # For FOMAML, these gradients are our approximation for the meta-gradient.\n",
    "        fast_grads = torch.autograd.grad(query_loss, fast_model.parameters())\n",
    "\n",
    "        # 5. Manually add these gradients to the *meta_model's* .grad attributes.\n",
    "        # This transfers the learning from the temporary model back to the main one.\n",
    "        with torch.no_grad():\n",
    "            for p_meta, g_fast in zip(meta_model.parameters(), fast_grads):\n",
    "                # We add the gradient divided by the batch size to average them across all tasks\n",
    "                if p_meta.grad is None:\n",
    "                    p_meta.grad = g_fast / hp.meta_batch_size\n",
    "                else:\n",
    "                    p_meta.grad += g_fast / hp.meta_batch_size\n",
    "\n",
    "    # After accumulating gradients from all tasks, take one meta-step\n",
    "    meta_optimizer.step()\n",
    "\n",
    "    # For logging, we check the loss of the last task in the batch\n",
    "    if (step + 1) % 10 == 0:\n",
    "        print(f\"\\nSanity Check Step {step+1}, Last Task Query Loss: {query_loss.item():.4f}\")"
   ]
  },
  {
   "cell_type": "code",
   "execution_count": null,
   "id": "cdc0a23f",
   "metadata": {},
   "outputs": [],
   "source": [
    "import torch\n",
    "import torch.optim as optim\n",
    "import torch.nn.functional as F\n",
    "from torch.utils.data import DataLoader, Dataset\n",
    "import os\n",
    "from PIL import Image\n",
    "import random\n",
    "\n",
    "# --- This is a simplified, standard PyTorch Dataset ---\n",
    "# It proves the model is right, only MAML is the issue\n",
    "class SimpleMalwareDataset(Dataset):\n",
    "    def __init__(self, resized_folder, families):\n",
    "        self.image_paths = []\n",
    "        self.labels = []\n",
    "        for i, family in enumerate(families):\n",
    "            family_path = os.path.join(resized_folder, family)\n",
    "            for img_name in os.listdir(family_path):\n",
    "                self.image_paths.append(os.path.join(family_path, img_name))\n",
    "                self.labels.append(i)\n",
    "        # You would instantiate your augmenters here\n",
    "        # self.inserter_class = CodeInserter\n",
    "        # self.duplicator_class = CodeDuplicator\n",
    "\n",
    "    def __len__(self):\n",
    "        return len(self.image_paths)\n",
    "\n",
    "    def __getitem__(self, idx):\n",
    "        path = self.image_paths[idx]\n",
    "        label = self.labels[idx]\n",
    "\n",
    "        # Load and augment the image to create the 3-channel input\n",
    "        base_img = Image.open(path).convert(\"L\") # Ensure it's grayscale\n",
    "\n",
    "        # NOTE: For this simple test, we will just stack the original image 3 times.\n",
    "        # This confirms the model works before adding complex augmentations.\n",
    "        base_tensor = transforms.ToTensor()(base_img)\n",
    "        input_tensor = torch.cat([base_tensor, base_tensor, base_tensor], dim=0)\n",
    "\n",
    "        return input_tensor, torch.tensor(label, dtype=torch.long)\n",
    "\n",
    "# --- The Sanity Check Script ---\n",
    "if __name__ == '__main__':\n",
    "    device = torch.device(\"cuda\" if torch.cuda.is_available() else \"cpu\")\n",
    "\n",
    "    # 1. Create a dataset with just two classes\n",
    "    simple_dataset = SimpleMalwareDataset('malimg_resized', ['Agent.FYI', 'Allaple.A'])\n",
    "    simple_dataloader = DataLoader(simple_dataset, batch_size=32, shuffle=True)\n",
    "\n",
    "    # 2. Instantiate the model and a standard optimizer\n",
    "    # The model now has 2 output classes\n",
    "    simple_model = CNN(in_channel=3, n_way=2).to(device)\n",
    "    optimizer = optim.Adam(simple_model.parameters(), lr=0.001)\n",
    "\n",
    "    print(\"--- Starting Simplest Task Sanity Check ---\")\n",
    "    # 3. A standard training loop\n",
    "    for epoch in range(10):\n",
    "        total_loss = 0\n",
    "        total_correct = 0\n",
    "        for images, labels in simple_dataloader:\n",
    "            images, labels = images.to(device), labels.to(device)\n",
    "\n",
    "            optimizer.zero_grad()\n",
    "            logits = simple_model(images)\n",
    "            loss = F.cross_entropy(logits, labels)\n",
    "            loss.backward()\n",
    "            optimizer.step()\n",
    "\n",
    "            total_loss += loss.item()\n",
    "            preds = torch.argmax(logits, dim=1)\n",
    "            total_correct += (preds == labels).sum().item()\n",
    "\n",
    "        avg_loss = total_loss / len(simple_dataloader)\n",
    "        accuracy = total_correct / len(simple_dataset)\n",
    "        print(f\"Epoch {epoch+1}/10 | Loss: {avg_loss:.4f} | Accuracy: {accuracy:.4f}\")"
   ]
  },
  {
   "cell_type": "code",
   "execution_count": null,
   "id": "2d89779a",
   "metadata": {},
   "outputs": [],
   "source": [
    "# # alternate learning rate manager code\n",
    "# class LearningRateManager:\n",
    "#     def __init__(self, initial_inner_lr, meta_optimizer, inner_steps):\n",
    "#         self.initial_inner_lr = initial_inner_lr\n",
    "#         self.meta_optimizer = meta_optimizer\n",
    "#         self.inner_steps = inner_steps\n",
    "#         self.val_loss_plateau_counter = 0\n",
    "\n",
    "#     def get_inner_lr(self, task_idx):\n",
    "#         \"\"\"\n",
    "#         Calculates the dynamic inner LR for a given task index in a stateless way.\n",
    "#         This implements the periodic schedule from the paper.\n",
    "#         \"\"\"\n",
    "#         n = self.inner_steps\n",
    "#         period = 4 * n\n",
    "#         # Find our position within the 4n period\n",
    "#         i = task_idx % period\n",
    "\n",
    "#         # Calculate the base learning rate at the start of the current phase\n",
    "#         if i < n:\n",
    "#             # Phase 1: Increasing\n",
    "#             return self.initial_inner_lr + (self.initial_inner_lr / 4.0)\n",
    "#         elif i < 2 * n:\n",
    "#             # Phase 2: Decreasing\n",
    "#             return self.initial_inner_lr - (self.initial_inner_lr / 4.0)\n",
    "#         elif i < 3 * n:\n",
    "#             # Phase 3: Decreasing\n",
    "#             return self.initial_inner_lr - (self.initial_inner_lr / (n + 1.0))\n",
    "#         else: # i < 4 * n\n",
    "#             # Phase 4: Increasing\n",
    "#             return self.initial_inner_lr + (self.initial_inner_lr / (n + 1.0))\n",
    "\n",
    "#     def check_plateau(self, current_val_loss, best_val_loss):\n",
    "#         if current_val_loss >= best_val_loss:\n",
    "#             self.val_loss_plateau_counter += 1\n",
    "#         else:\n",
    "#             self.val_loss_plateau_counter = 0\n",
    "#         if self.val_loss_plateau_counter >= self.inner_steps:\n",
    "#             print(f'\\nValidation loss has plateaued. Reducing meta_lr')\n",
    "#             for g in self.meta_optimizer.param_groups:\n",
    "#                 g['lr'] *= (1 / self.inner_steps)\n",
    "#             self.val_loss_plateau_counter = 0"
   ]
  },
  {
   "cell_type": "markdown",
   "id": "30842c83",
   "metadata": {},
   "source": [
    "# solving Meta-overfitting"
   ]
  },
  {
   "cell_type": "code",
   "execution_count": null,
   "id": "b9221574",
   "metadata": {},
   "outputs": [
    {
     "data": {
      "image/png": "[encoded data removed]",
      "text/plain": [
       "<Figure size 1000x400 with 3 Axes>"
      ]
     },
     "metadata": {},
     "output_type": "display_data"
    },
    {
     "data": {
      "image/png": "[encoded data removed]",
      "text/plain": [
       "<Figure size 1000x400 with 3 Axes>"
      ]
     },
     "metadata": {},
     "output_type": "display_data"
    },
    {
     "data": {
      "image/png": "[encoded data removed]",
      "text/plain": [
       "<Figure size 1000x400 with 3 Axes>"
      ]
     },
     "metadata": {},
     "output_type": "display_data"
    }
   ],
   "source": [
    "import matplotlib.pyplot as plt\n",
    "import os\n",
    "from PIL import Image\n",
    "import random\n",
    "\n",
    "def visualize_family(family_name, set_name):\n",
    "    \"\"\"Loads and displays 3 random images from a given family.\"\"\"\n",
    "    path = os.path.join(\"malimg_resized\", family_name)\n",
    "    image_files = random.sample(os.listdir(path), 3)\n",
    "\n",
    "    fig, axes = plt.subplots(1, 3, figsize=(10, 4))\n",
    "    fig.suptitle(f\"Set: {set_name} - Family: {family_name}\", fontsize=16)\n",
    "    for i, img_file in enumerate(image_files):\n",
    "        img = Image.open(os.path.join(path, img_file))\n",
    "        axes[i].imshow(img, cmap='gray')\n",
    "        axes[i].axis('off')\n",
    "    plt.show()\n",
    "\n",
    "# --- Pick one family from each of your sets ---\n",
    "training_family_sample = \"Allaple.A\" # From your training set\n",
    "validation_family_sample = \"Fakerean\" # From your validation set\n",
    "testing_family_sample = \"Allaple.L\" # From your testing set\n",
    "\n",
    "visualize_family(training_family_sample, \"Training\")\n",
    "visualize_family(validation_family_sample, \"Validation\")\n",
    "visualize_family(testing_family_sample, \"Testing\")"
   ]
  },
  {
   "cell_type": "code",
   "execution_count": null,
   "id": "4cf17f8a",
   "metadata": {},
   "outputs": [],
   "source": []
  }
 ],
 "metadata": {
  "kernelspec": {
   "display_name": "maml",
   "language": "python",
   "name": "python3"
  },
  "language_info": {
   "codemirror_mode": {
    "name": "ipython",
    "version": 3
   },
   "file_extension": ".py",
   "mimetype": "text/x-python",
   "name": "python",
   "nbconvert_exporter": "python",
   "pygments_lexer": "ipython3",
   "version": "3.13.3"
  }
 },
 "nbformat": 4,
 "nbformat_minor": 5
}
