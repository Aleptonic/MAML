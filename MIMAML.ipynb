{
 "cells": [
  {
   "cell_type": "code",
   "execution_count": 8,
   "id": "95c3c4ff",
   "metadata": {},
   "outputs": [],
   "source": [
    "import os\n",
    "from PIL import Image\n",
    "import copy\n",
    "import torch\n",
    "import torch.nn as nn\n",
    "import torch.optim as optim\n",
    "import torch.nn.functional as F\n",
    "from dataclasses import dataclass\n",
    "from typing import List\n",
    "import random\n",
    "from torchvision import transforms\n",
    "import numpy as np\n",
    "from tqdm import tqdm\n",
    "\n",
    "# -- To insert non functional code in the image to get augmented image --\n",
    "class CodeInserter:\n",
    "    def __init__(self, image: Image.Image):\n",
    "        self.image = image\n",
    "        self.flat_img = np.array(image).ravel()\n",
    "        self.opcodes = [0, 144, 204, 205]\n",
    "        self.patterns = [\n",
    "            [0],              # Simulates null padding\n",
    "            [144],            # Simulates single-byte NOP\n",
    "            [204],            # Simulates debug breakpoint\n",
    "            #[255],            # Simulates filler bytes\n",
    "            [102, 144]        # Simulates 2-byte NOP (0x66 0x90)\n",
    "        ]\n",
    "    def _generate_random_slice(self, min_len=40, max_len=400):\n",
    "        \"\"\"\n",
    "        Generates a slice of noise using one of several realistic strategies.\n",
    "        \"\"\"\n",
    "        slice_length = random.randint(min_len, max_len)\n",
    "        # Randomly choose a generation mode for this slice\n",
    "        generation_mode = random.choice(['pattern', 'structured_noise'])\n",
    "        if generation_mode == 'pattern':\n",
    "            # --- Strategy 1: Repeat a specific, ordered pattern ---\n",
    "            chosen_pattern = random.choice(self.patterns)\n",
    "            num_repeats = (slice_length // len(chosen_pattern)) + 1# Tile the pattern until it's long enough\n",
    "            tiled_pattern = np.tile(chosen_pattern, num_repeats)\n",
    "            return tiled_pattern[:slice_length]# Trim to the exact slice_length\n",
    "        else:\n",
    "            # --- Strategy 2: Create a random mix of opcodes ---\n",
    "            num_opcodes = random.randint(2, len(self.opcodes))\n",
    "            chosen_opcodes = random.sample(self.opcodes, num_opcodes)\n",
    "            return np.random.choice(chosen_opcodes, size=slice_length)\n",
    "    def _calculate_new_dimensions(self, new_pixel_count: int):\n",
    "        \"\"\"\n",
    "        Calculates new width and height, preserving aspect ratio.\n",
    "        This is a simpler, more direct way to do the math.\n",
    "        \"\"\"\n",
    "        og_w, og_h = self.image.size\n",
    "        aspect_ratio = og_w / og_h\n",
    "        new_h = int(np.sqrt(new_pixel_count / aspect_ratio))\n",
    "        new_w = int(new_h * aspect_ratio)\n",
    "        # Pad to ensure the new canvas is big enough\n",
    "        while new_w * new_h < new_pixel_count:\n",
    "            new_w += 1\n",
    "        return new_w, new_h\n",
    "    def augment(self):\n",
    "        \"\"\"\n",
    "        Applies the insertion augmentation and returns a new PIL Image.\n",
    "        \"\"\"\n",
    "        augmented_image = self.flat_img.copy()\n",
    "        num_insertions = random.randint(1, 3)\n",
    "        max_idx = len(augmented_image)\n",
    "        cut_points = np.random.choice(max_idx, size=num_insertions, replace=False)\n",
    "        cut_points.sort()\n",
    "        for point in reversed(cut_points):\n",
    "            insertion_slice = self._generate_random_slice()\n",
    "            augmented_image = np.insert(augmented_image, point, insertion_slice)\n",
    "        new_w, new_h = self._calculate_new_dimensions(len(augmented_image))\n",
    "        pad_len = (new_w * new_h) - len(augmented_image)# pad the array to fit the new rectangular shape\n",
    "        padded_image = np.pad(augmented_image, (0, pad_len), 'constant')\n",
    "        reshaped_image = padded_image.reshape((new_h, new_w)).astype(np.uint8)\n",
    "        final_image = Image.fromarray(reshaped_image) # construct PIL image\n",
    "        #final_image.resize((64, 64), Image.Resampling.LANCZOS)\n",
    "        return final_image.resize((64, 64), Image.Resampling.LANCZOS)\n",
    "\n",
    "# -- To duplicate functional code in the image to get augmented image --\n",
    "class CodeDuplicator:\n",
    "    def __init__(self, image: Image.Image):\n",
    "        self.image = image\n",
    "        self.flat_img = np.array(image).ravel()\n",
    "        self.img_height, self.img_width = image.height, image.width\n",
    "\n",
    "    def _get_duplication_parameters(self):\n",
    "        # Using a square patch with a side length between 8 and 20 pixels.\n",
    "        side_length = random.randint(8, 20)\n",
    "        #window = side_length * side_length\n",
    "        window =int(0.1 * self.flat_img.size)  # 10 % of the input image size\n",
    "\n",
    "        max_start = len(self.flat_img) - window\n",
    "        start_point = random.randint(0, max_start)\n",
    "        while True:\n",
    "            insertion_point = random.randint(0, max_start)\n",
    "            if abs(start_point - insertion_point) >= window:\n",
    "                break # found valid\n",
    "        return start_point, insertion_point, window\n",
    "\n",
    "    def augment(self):\n",
    "        \"\"\"\n",
    "        Applies the duplication augmentation and returns a new PIL Image.\n",
    "        This is the main public method to call.\n",
    "        \"\"\"\n",
    "        start, duplicate_at, window = self._get_duplication_parameters()\n",
    "        augmented_flat = self.flat_img.copy()\n",
    "        snippet = self.flat_img[start : start + window]\n",
    "        augmented_flat[duplicate_at : duplicate_at + window] = snippet\n",
    "        augmented_2d = np.reshape(augmented_flat, (self.img_height, self.img_width))\n",
    "        return Image.fromarray(augmented_2d.astype(np.uint8))\n",
    "\n",
    "# -- Sampling and creation of batches --\n",
    "class TaskSampler:\n",
    "    def __init__(self, resized_folder: str, families: list, meta_batch_size: int, n_way: int, k_shot: int, q_query: int):\n",
    "        self.resized_folder = resized_folder\n",
    "        self.families = families\n",
    "        self.meta_batch_size = meta_batch_size\n",
    "        self.n_way = n_way\n",
    "        self.k_shot = k_shot\n",
    "        self.q_query = q_query\n",
    "        # Pre-load all image paths for efficiency\n",
    "        self.image_paths_by_family = {\n",
    "            f: [os.path.join(resized_folder, f, img_name) for img_name in os.listdir(os.path.join(resized_folder, f))]\n",
    "            for f in self.families\n",
    "        }\n",
    "        # Define a single transform to convert PIL Images to PyTorch Tensors\n",
    "        self.to_tensor = transforms.ToTensor() # output on using on one image is (1, H, W)\n",
    "    def _create_input_tensor(self, base_img: Image.Image) -> torch.Tensor:\n",
    "        \"\"\"Creates the 3-channel tensor from a single PIL image.\"\"\"\n",
    "        # Instantiate your augmentation classes for each image\n",
    "        aug1_img = CodeInserter(base_img).augment()\n",
    "        aug2_img = CodeDuplicator(base_img).augment()\n",
    "        base_tensor = self.to_tensor(base_img)\n",
    "        aug1_tensor = self.to_tensor(aug1_img)\n",
    "        aug2_tensor = self.to_tensor(aug2_img)\n",
    "        # Note: to_tensor creates a (1, H, W) tensor, so we cat on dim 0\n",
    "        #return torch.cat([base_tensor, base_tensor, base_tensor], dim=0)\n",
    "        return torch.cat([base_tensor, aug1_tensor, aug2_tensor], dim=0)\n",
    "    def sample(self):\n",
    "        \"\"\"\n",
    "        Samples a full meta-batch of tasks.\n",
    "        Returns:\n",
    "            A tuple of (support_x, support_y, query_x, query_y) tensors.\n",
    "        \"\"\"\n",
    "        support_x_batch, support_y_batch = [], []\n",
    "        query_x_batch, query_y_batch = [], []\n",
    "\n",
    "        for _ in range(self.meta_batch_size):\n",
    "            support_x, support_y = [], []\n",
    "            query_x, query_y = [], []\n",
    "            task_families = random.sample(self.families, self.n_way) # has the names of the families present in this task\n",
    "\n",
    "            for i, family in enumerate(task_families):\n",
    "                all_paths = self.image_paths_by_family[family] # has all possible img path for specific family\n",
    "                sampled_paths = random.sample(all_paths, self.k_shot + self.q_query)\n",
    "                # Load images, augment, and convert to tensors\n",
    "                class_tensors = [self._create_input_tensor(Image.open(p)) for p in sampled_paths]\n",
    "                class_tensors = torch.stack(class_tensors) # Shape: (k+q, 3, 64, 64)\n",
    "\n",
    "                # Split into support and query sets\n",
    "                support_set = class_tensors[:self.k_shot]\n",
    "                query_set = class_tensors[self.k_shot:]\n",
    "                support_x.append(support_set)\n",
    "                query_x.append(query_set)\n",
    "                # Create labels\n",
    "                support_y.append(torch.full((self.k_shot,), i, dtype=torch.long))\n",
    "                query_y.append(torch.full((self.q_query,), i, dtype=torch.long))\n",
    "\n",
    "            # Aggregate all classes for this one task\n",
    "            support_x_batch.append(torch.cat(support_x, dim=0))\n",
    "            support_y_batch.append(torch.cat(support_y, dim=0))\n",
    "            query_x_batch.append(torch.cat(query_x, dim=0))\n",
    "            query_y_batch.append(torch.cat(query_y, dim=0))\n",
    "\n",
    "        # Stack all tasks to create the final meta-batch\n",
    "        return (torch.stack(support_x_batch), torch.stack(support_y_batch),\n",
    "                torch.stack(query_x_batch), torch.stack(query_y_batch))\n",
    "\n",
    "# -- Hyper-parameters for the model --\n",
    "@dataclass\n",
    "class Hyperparameters:\n",
    "    n_way : int # total number of classes we want to classify in\n",
    "    k_shot : int # support examples in each task\n",
    "    q_query : int # query examples for each task\n",
    "    inner_lr : float # inner loop (task specific) learning rate (alpha in the original paper)\n",
    "    meta_lr : float # meta-learning rate (beta in the original paper)\n",
    "    meta_batch_size : int # total number of tasks per meta-batch\n",
    "    traning_steps : int # number of meta-updates to perform\n",
    "    inner_steps : int # number of gradient steps ('n': from the original paper)\n",
    "    meta_training_families : List # the list of tasks (families) from which we sample\n",
    "    meta_testing_families : List # the list of tasks (families) which are unknown and used for testing\n",
    "    meta_val_families : List # the list of tasks (families) for validation\n",
    "\n",
    "# -- Handle the updates in Learning Rate --\n",
    "class LearningRate:\n",
    "    def __init__(self, initial_inner_lr: int):\n",
    "        self.alpha1 = initial_inner_lr\n",
    "    def _upate_alpha(self, inner_lr: int, inner_steps: int, task_num: int):\n",
    "        alpha_i = inner_lr\n",
    "        n = inner_steps\n",
    "        delta1 = self.alpha1/4\n",
    "        delta2 = self.alpha1 / (n +1)\n",
    "        if 1<= task_num < n +1: return alpha_i + delta1\n",
    "        if n+1<=task_num <2*n+1: return alpha_i - delta1\n",
    "        if 2*n+1<=task_num<3*n+1: return alpha_i + delta2\n",
    "        if 3*n+1<=task_num<4*n+1: return alpha_i - delta2\n",
    "    def _update_beta(self, meta_lr: int, inner_steps: int):\n",
    "        return meta_lr / inner_steps\n",
    "\n",
    "# -- Handles the accurate update of both learning rates --\n",
    "class LearningRateManager:\n",
    "    def __init__(self, initial_lr, meta_optimizer, inner_steps):\n",
    "        self.inner_lr = initial_lr\n",
    "        self.initial_lr = initial_lr\n",
    "        self.meta_optimizer = meta_optimizer\n",
    "        self.inner_steps = inner_steps\n",
    "        self.val_loss_plateau_counter = 0\n",
    "    def _get_inner_lr(self, task_idx):\n",
    "        # Implements the DILLR\n",
    "        period = 4*self.inner_steps\n",
    "        n= self.inner_steps\n",
    "        i = task_idx % period\n",
    "        delta1 = self.initial_lr/4\n",
    "        delta2 = self.initial_lr/(n+1)\n",
    "        if 0<=i<n: self.inner_lr+=delta1\n",
    "        if n<=i<2*n: self.inner_lr-=delta1\n",
    "        if 2*n<=i<3*n: self.inner_lr+=delta2\n",
    "        if 3*n<=i<4*n: self.inner_lr-=delta2\n",
    "        return self.inner_lr\n",
    "    def _check_plateau(self, current_val_loss, best_val_loss):\n",
    "        # Implements the AOLLR for the meta_lr\n",
    "        if current_val_loss >= best_val_loss:\n",
    "            self.val_loss_plateau_counter+=1\n",
    "        else:\n",
    "            self.val_loss_plateau_counter = 0 # reset as better validation performance\n",
    "        if self.val_loss_plateau_counter >= self.inner_steps:\n",
    "        #if self.val_loss_plateau_counter >=10:\n",
    "            print(f'Validation loss has plateaued. Reducing meta_lr')\n",
    "            for g in self.meta_optimizer.param_groups:\n",
    "                g['lr'] *= (1 / self.inner_steps)\n",
    "            self.val_loss_plateau_counter = 0 # reset after reducing\n",
    "\n",
    "# -- Base Learner Model --\n",
    "class CNN(nn.Module):\n",
    "    def __init__(self, in_channel: int, n_way: int):\n",
    "        super(CNN, self).__init__()\n",
    "        # Define the 4 CNN blocks\n",
    "        self.layer1 = self._make_conv_block(in_channel, 64)\n",
    "        self.layer2 = self._make_conv_block(64,64)\n",
    "        self.layer3 = self._make_conv_block(64,64)\n",
    "        self.layer4 = self._make_conv_block(64,64)\n",
    "        self.dropout = nn.Dropout(0.25)\n",
    "        self.classifier = nn.Linear(64*4*4, n_way)\n",
    "    def _make_conv_block(self, in_channels: int, out_channels: int):\n",
    "        \"\"\" Helper function to make convolutional block\n",
    "        Parameters\n",
    "        ----------\n",
    "        in_channels : int\n",
    "            the input channels for the conv layer\n",
    "        out_channels : int\n",
    "            the output channel of the layer (total number of filters applied)\n",
    "        \"\"\"\n",
    "        return nn.Sequential(\n",
    "            nn.Conv2d(in_channels, out_channels, kernel_size=3, stride=1, padding=1),\n",
    "            nn.BatchNorm2d(out_channels),\n",
    "            nn.ELU(),\n",
    "            nn.MaxPool2d(2)\n",
    "        )\n",
    "    def forward(self, x:torch.Tensor) -> torch.Tensor:\n",
    "        # First Group\n",
    "        x = self.layer1(x)\n",
    "        x= self.layer2(x)\n",
    "        #print(f'Type of dropout: {type(self.dropout)}')\n",
    "        x = self.dropout(x)\n",
    "        # Second Group\n",
    "        x = self.layer3(x)\n",
    "        x = self.layer4(x)\n",
    "        x = self.dropout(x)\n",
    "        # Flatten the output for the linear layer\n",
    "        x = x.view(x.size(0), -1)\n",
    "        # Final logits\n",
    "        logits = self.classifier(x)\n",
    "        return logits\n"
   ]
  },
  {
   "cell_type": "code",
   "execution_count": 2,
   "id": "0bcd0929",
   "metadata": {},
   "outputs": [
    {
     "name": "stdout",
     "output_type": "stream",
     "text": [
      "Using: mps\n"
     ]
    }
   ],
   "source": [
    "device = torch.device(\"cuda\" if torch.cuda.is_available() else \"mps\")\n",
    "print(f'Using: {device}')\n"
   ]
  },
  {
   "cell_type": "code",
   "execution_count": 3,
   "id": "9d2bc6ca",
   "metadata": {},
   "outputs": [],
   "source": [
    "# Set hyper parameters\n",
    "hp = Hyperparameters(\n",
    "    n_way=2,\n",
    "    k_shot=5,\n",
    "    q_query=15,\n",
    "    inner_lr=0.001,\n",
    "    meta_lr=0.0002,\n",
    "    meta_batch_size=16,\n",
    "    traning_steps=100*100,\n",
    "    inner_steps=5,\n",
    "    meta_training_families=['Adialer.C', 'Agent.FYI', 'Allaple.A', 'Alueron.gen!J', 'Autorun.K', 'C2LOP.gen!g', 'Lolyda.AA2', 'Lolyda.AT',\n",
    "                        'Rbot!gen', 'Skintrim.N', 'Swizzor.gen!E', 'Swizzor.gen!I', 'VB.AT', 'Wintrim.BX', 'Yuner.A'],\n",
    "    meta_val_families=['Dontovo.A', 'Fakerean', 'Instantaccess', 'Lolyda.AA3', 'Obfuscator.AD'],\n",
    "    meta_testing_families=['Dialplatform.B', 'Allaple.L', 'C2LOP.P', 'Lolyda.AA1', 'Malex.gen!J']\n",
    ")\n",
    "# Set Task Sampler\n",
    "sampler = TaskSampler(\n",
    "    resized_folder='malimg_resized',\n",
    "    families=hp.meta_training_families,\n",
    "    meta_batch_size=hp.meta_batch_size,\n",
    "    n_way=hp.n_way,\n",
    "    k_shot=hp.k_shot,\n",
    "    q_query=hp.q_query\n",
    ")\n",
    "# Initialize the model and set it to device\n",
    "meta_model = CNN(in_channel=3, n_way=hp.n_way).to(device=device)\n",
    "meta_optimizer = optim.Adam(meta_model.parameters(), lr=hp.meta_lr)\n",
    "# Set Learning Rate\n",
    "lr_manager = LearningRateManager(initial_lr=hp.inner_lr, meta_optimizer=meta_optimizer, inner_steps=hp.inner_steps)\n"
   ]
  },
  {
   "cell_type": "code",
   "execution_count": 4,
   "id": "d5b7effc",
   "metadata": {},
   "outputs": [],
   "source": [
    "# Function to evaluate the model\n",
    "def evaluate(model, families, n_way, k_shot, q_query, inner_steps, inner_lr, num_eval_tasks=100):\n",
    "    model.eval()\n",
    "    total_correct = 0\n",
    "    total_samples = 0\n",
    "    total_loss = 0.0\n",
    "    # temp sampler for evaluation\n",
    "    eval_sampler = TaskSampler(resized_folder='malimg_resized', families=families,\n",
    "                               meta_batch_size=num_eval_tasks, n_way=n_way, k_shot=k_shot, q_query=q_query)\n",
    "    support_x, support_y, query_x, query_y = eval_sampler.sample()\n",
    "    support_x, support_y = support_x.to(device=device), support_y.to(device=device)\n",
    "    query_x, query_y = query_x.to(device=device), query_y.to(device=device)\n",
    "\n",
    "    for i in range(num_eval_tasks):\n",
    "            fast_model = copy.deepcopy(model)\n",
    "            sx, sy = support_x[i], support_y[i]\n",
    "            qx, qy = query_x[i], query_y[i]\n",
    "\n",
    "            # Adapt model on the support (no optimizer needed)\n",
    "            for _ in range(inner_steps):\n",
    "                logits = fast_model(sx)\n",
    "                loss = F.cross_entropy(logits, sy)\n",
    "                grads = torch.autograd.grad(loss, fast_model.parameters())\n",
    "                # Update the inner loop\n",
    "                for p, g in zip(fast_model.parameters(), grads):\n",
    "                    p.data -= inner_lr*g\n",
    "            # Evaluate on query\n",
    "            with torch.no_grad():\n",
    "                query_logits = fast_model(qx)\n",
    "                query_loss = F.cross_entropy(query_logits, qy)\n",
    "                total_loss+=query_loss.item()\n",
    "                preds = torch.argmax(query_logits, dim=1)\n",
    "                total_correct+= (preds==qy).sum().item()\n",
    "                total_samples+= len(qy)\n",
    "    avg_accuracy = total_correct / total_samples\n",
    "    avg_loss = total_loss / num_eval_tasks\n",
    "    return avg_accuracy, avg_loss\n"
   ]
  },
  {
   "cell_type": "code",
   "execution_count": null,
   "id": "0d12b978",
   "metadata": {},
   "outputs": [
    {
     "name": "stdout",
     "output_type": "stream",
     "text": [
      "Starting thr Mi-MAML training (2 way, 5 shot) on : mps\n"
     ]
    },
    {
     "name": "stderr",
     "output_type": "stream",
     "text": [
      "Mi-MAML training:   1%|          | 100/10000 [01:10<4:57:06,  1.80s/it]"
     ]
    },
    {
     "name": "stdout",
     "output_type": "stream",
     "text": [
      "Epoch 1/100 | Meta Loss: 0.2747 | Val Acc: 0.5000\n",
      "  -> New best validation accuracy! Saving model...\n"
     ]
    },
    {
     "name": "stderr",
     "output_type": "stream",
     "text": [
      "Mi-MAML training:   2%|▏         | 200/10000 [02:26<5:33:51,  2.04s/it]"
     ]
    },
    {
     "name": "stdout",
     "output_type": "stream",
     "text": [
      "Epoch 2/100 | Meta Loss: 0.0977 | Val Acc: 0.5000\n"
     ]
    },
    {
     "name": "stderr",
     "output_type": "stream",
     "text": [
      "Mi-MAML training:   3%|▎         | 300/10000 [03:57<5:51:35,  2.17s/it]"
     ]
    },
    {
     "name": "stdout",
     "output_type": "stream",
     "text": [
      "Epoch 3/100 | Meta Loss: 0.1686 | Val Acc: 0.5000\n"
     ]
    },
    {
     "name": "stderr",
     "output_type": "stream",
     "text": [
      "Mi-MAML training:   3%|▎         | 349/10000 [04:40<2:09:05,  1.25it/s]\n"
     ]
    },
    {
     "ename": "KeyboardInterrupt",
     "evalue": "",
     "output_type": "error",
     "traceback": [
      "\u001b[31m---------------------------------------------------------------------------\u001b[39m",
      "\u001b[31mKeyboardInterrupt\u001b[39m                         Traceback (most recent call last)",
      "\u001b[36mCell\u001b[39m\u001b[36m \u001b[39m\u001b[32mIn[19]\u001b[39m\u001b[32m, line 35\u001b[39m\n\u001b[32m     33\u001b[39m         p.data -= current_inner_lr*g\n\u001b[32m     34\u001b[39m \u001b[38;5;66;03m# Calculate the loss on query\u001b[39;00m\n\u001b[32m---> \u001b[39m\u001b[32m35\u001b[39m query_logits = \u001b[43mfast_model\u001b[49m\u001b[43m(\u001b[49m\u001b[43mqx\u001b[49m\u001b[43m)\u001b[49m\n\u001b[32m     36\u001b[39m query_loss = F.cross_entropy(query_logits, qy)\n\u001b[32m     37\u001b[39m total_query_loss+= query_loss\n",
      "\u001b[36mFile \u001b[39m\u001b[32m~/GITHUB/MAML/maml/lib/python3.13/site-packages/torch/nn/modules/module.py:1773\u001b[39m, in \u001b[36mModule._wrapped_call_impl\u001b[39m\u001b[34m(self, *args, **kwargs)\u001b[39m\n\u001b[32m   1771\u001b[39m     \u001b[38;5;28;01mreturn\u001b[39;00m \u001b[38;5;28mself\u001b[39m._compiled_call_impl(*args, **kwargs)  \u001b[38;5;66;03m# type: ignore[misc]\u001b[39;00m\n\u001b[32m   1772\u001b[39m \u001b[38;5;28;01melse\u001b[39;00m:\n\u001b[32m-> \u001b[39m\u001b[32m1773\u001b[39m     \u001b[38;5;28;01mreturn\u001b[39;00m \u001b[38;5;28;43mself\u001b[39;49m\u001b[43m.\u001b[49m\u001b[43m_call_impl\u001b[49m\u001b[43m(\u001b[49m\u001b[43m*\u001b[49m\u001b[43margs\u001b[49m\u001b[43m,\u001b[49m\u001b[43m \u001b[49m\u001b[43m*\u001b[49m\u001b[43m*\u001b[49m\u001b[43mkwargs\u001b[49m\u001b[43m)\u001b[49m\n",
      "\u001b[36mFile \u001b[39m\u001b[32m~/GITHUB/MAML/maml/lib/python3.13/site-packages/torch/nn/modules/module.py:1784\u001b[39m, in \u001b[36mModule._call_impl\u001b[39m\u001b[34m(self, *args, **kwargs)\u001b[39m\n\u001b[32m   1779\u001b[39m \u001b[38;5;66;03m# If we don't have any hooks, we want to skip the rest of the logic in\u001b[39;00m\n\u001b[32m   1780\u001b[39m \u001b[38;5;66;03m# this function, and just call forward.\u001b[39;00m\n\u001b[32m   1781\u001b[39m \u001b[38;5;28;01mif\u001b[39;00m \u001b[38;5;129;01mnot\u001b[39;00m (\u001b[38;5;28mself\u001b[39m._backward_hooks \u001b[38;5;129;01mor\u001b[39;00m \u001b[38;5;28mself\u001b[39m._backward_pre_hooks \u001b[38;5;129;01mor\u001b[39;00m \u001b[38;5;28mself\u001b[39m._forward_hooks \u001b[38;5;129;01mor\u001b[39;00m \u001b[38;5;28mself\u001b[39m._forward_pre_hooks\n\u001b[32m   1782\u001b[39m         \u001b[38;5;129;01mor\u001b[39;00m _global_backward_pre_hooks \u001b[38;5;129;01mor\u001b[39;00m _global_backward_hooks\n\u001b[32m   1783\u001b[39m         \u001b[38;5;129;01mor\u001b[39;00m _global_forward_hooks \u001b[38;5;129;01mor\u001b[39;00m _global_forward_pre_hooks):\n\u001b[32m-> \u001b[39m\u001b[32m1784\u001b[39m     \u001b[38;5;28;01mreturn\u001b[39;00m \u001b[43mforward_call\u001b[49m\u001b[43m(\u001b[49m\u001b[43m*\u001b[49m\u001b[43margs\u001b[49m\u001b[43m,\u001b[49m\u001b[43m \u001b[49m\u001b[43m*\u001b[49m\u001b[43m*\u001b[49m\u001b[43mkwargs\u001b[49m\u001b[43m)\u001b[49m\n\u001b[32m   1786\u001b[39m result = \u001b[38;5;28;01mNone\u001b[39;00m\n\u001b[32m   1787\u001b[39m called_always_called_hooks = \u001b[38;5;28mset\u001b[39m()\n",
      "\u001b[36mCell\u001b[39m\u001b[36m \u001b[39m\u001b[32mIn[9]\u001b[39m\u001b[32m, line 280\u001b[39m, in \u001b[36mCNN.forward\u001b[39m\u001b[34m(self, x)\u001b[39m\n\u001b[32m    278\u001b[39m x = x.view(x.size(\u001b[32m0\u001b[39m), -\u001b[32m1\u001b[39m)\n\u001b[32m    279\u001b[39m \u001b[38;5;66;03m# Final logits\u001b[39;00m\n\u001b[32m--> \u001b[39m\u001b[32m280\u001b[39m logits = \u001b[38;5;28;43mself\u001b[39;49m\u001b[43m.\u001b[49m\u001b[43mclassifier\u001b[49m\u001b[43m(\u001b[49m\u001b[43mx\u001b[49m\u001b[43m)\u001b[49m\n\u001b[32m    281\u001b[39m \u001b[38;5;28;01mreturn\u001b[39;00m logits\n",
      "\u001b[36mFile \u001b[39m\u001b[32m~/GITHUB/MAML/maml/lib/python3.13/site-packages/torch/nn/modules/module.py:1773\u001b[39m, in \u001b[36mModule._wrapped_call_impl\u001b[39m\u001b[34m(self, *args, **kwargs)\u001b[39m\n\u001b[32m   1771\u001b[39m     \u001b[38;5;28;01mreturn\u001b[39;00m \u001b[38;5;28mself\u001b[39m._compiled_call_impl(*args, **kwargs)  \u001b[38;5;66;03m# type: ignore[misc]\u001b[39;00m\n\u001b[32m   1772\u001b[39m \u001b[38;5;28;01melse\u001b[39;00m:\n\u001b[32m-> \u001b[39m\u001b[32m1773\u001b[39m     \u001b[38;5;28;01mreturn\u001b[39;00m \u001b[38;5;28;43mself\u001b[39;49m\u001b[43m.\u001b[49m\u001b[43m_call_impl\u001b[49m\u001b[43m(\u001b[49m\u001b[43m*\u001b[49m\u001b[43margs\u001b[49m\u001b[43m,\u001b[49m\u001b[43m \u001b[49m\u001b[43m*\u001b[49m\u001b[43m*\u001b[49m\u001b[43mkwargs\u001b[49m\u001b[43m)\u001b[49m\n",
      "\u001b[36mFile \u001b[39m\u001b[32m~/GITHUB/MAML/maml/lib/python3.13/site-packages/torch/nn/modules/module.py:1784\u001b[39m, in \u001b[36mModule._call_impl\u001b[39m\u001b[34m(self, *args, **kwargs)\u001b[39m\n\u001b[32m   1779\u001b[39m \u001b[38;5;66;03m# If we don't have any hooks, we want to skip the rest of the logic in\u001b[39;00m\n\u001b[32m   1780\u001b[39m \u001b[38;5;66;03m# this function, and just call forward.\u001b[39;00m\n\u001b[32m   1781\u001b[39m \u001b[38;5;28;01mif\u001b[39;00m \u001b[38;5;129;01mnot\u001b[39;00m (\u001b[38;5;28mself\u001b[39m._backward_hooks \u001b[38;5;129;01mor\u001b[39;00m \u001b[38;5;28mself\u001b[39m._backward_pre_hooks \u001b[38;5;129;01mor\u001b[39;00m \u001b[38;5;28mself\u001b[39m._forward_hooks \u001b[38;5;129;01mor\u001b[39;00m \u001b[38;5;28mself\u001b[39m._forward_pre_hooks\n\u001b[32m   1782\u001b[39m         \u001b[38;5;129;01mor\u001b[39;00m _global_backward_pre_hooks \u001b[38;5;129;01mor\u001b[39;00m _global_backward_hooks\n\u001b[32m   1783\u001b[39m         \u001b[38;5;129;01mor\u001b[39;00m _global_forward_hooks \u001b[38;5;129;01mor\u001b[39;00m _global_forward_pre_hooks):\n\u001b[32m-> \u001b[39m\u001b[32m1784\u001b[39m     \u001b[38;5;28;01mreturn\u001b[39;00m \u001b[43mforward_call\u001b[49m\u001b[43m(\u001b[49m\u001b[43m*\u001b[49m\u001b[43margs\u001b[49m\u001b[43m,\u001b[49m\u001b[43m \u001b[49m\u001b[43m*\u001b[49m\u001b[43m*\u001b[49m\u001b[43mkwargs\u001b[49m\u001b[43m)\u001b[49m\n\u001b[32m   1786\u001b[39m result = \u001b[38;5;28;01mNone\u001b[39;00m\n\u001b[32m   1787\u001b[39m called_always_called_hooks = \u001b[38;5;28mset\u001b[39m()\n",
      "\u001b[36mFile \u001b[39m\u001b[32m~/GITHUB/MAML/maml/lib/python3.13/site-packages/torch/nn/modules/linear.py:125\u001b[39m, in \u001b[36mLinear.forward\u001b[39m\u001b[34m(self, input)\u001b[39m\n\u001b[32m    124\u001b[39m \u001b[38;5;28;01mdef\u001b[39;00m\u001b[38;5;250m \u001b[39m\u001b[34mforward\u001b[39m(\u001b[38;5;28mself\u001b[39m, \u001b[38;5;28minput\u001b[39m: Tensor) -> Tensor:\n\u001b[32m--> \u001b[39m\u001b[32m125\u001b[39m     \u001b[38;5;28;01mreturn\u001b[39;00m \u001b[43mF\u001b[49m\u001b[43m.\u001b[49m\u001b[43mlinear\u001b[49m\u001b[43m(\u001b[49m\u001b[38;5;28;43minput\u001b[39;49m\u001b[43m,\u001b[49m\u001b[43m \u001b[49m\u001b[38;5;28;43mself\u001b[39;49m\u001b[43m.\u001b[49m\u001b[43mweight\u001b[49m\u001b[43m,\u001b[49m\u001b[43m \u001b[49m\u001b[38;5;28;43mself\u001b[39;49m\u001b[43m.\u001b[49m\u001b[43mbias\u001b[49m\u001b[43m)\u001b[49m\n",
      "\u001b[31mKeyboardInterrupt\u001b[39m: "
     ]
    }
   ],
   "source": [
    "import time\n",
    "from tqdm import tqdm\n",
    "\n",
    "#Logging and Chekpoint variables\n",
    "best_val_acc = 0.0\n",
    "best_val_loss = float('inf')\n",
    "steps_per_epoch = 100\n",
    "early_stopping_patience = 20\n",
    "epochs_without_improvement = 0\n",
    "\n",
    "print(f'Starting thr Mi-MAML training (2 way, 5 shot) on : {device}')\n",
    "for step in tqdm(range(hp.traning_steps), desc=\"Mi-MAML training\"):\n",
    "    meta_model.train()\n",
    "    support_x, support_y, query_x, query_y = sampler.sample()\n",
    "    support_x, support_y = support_x.to(device=device), support_y.to(device=device)\n",
    "    query_x, query_y = query_x.to(device=device), query_y.to(device=device)\n",
    "\n",
    "    meta_optimizer.zero_grad()\n",
    "    total_query_loss = 0.0\n",
    "\n",
    "    for i in range(hp.meta_batch_size):\n",
    "        fast_model = copy.deepcopy(meta_model)\n",
    "        sx, sy = support_x[i], support_y[i]\n",
    "        qx, qy = query_x[i], query_y[i]\n",
    "        current_inner_lr = lr_manager._get_inner_lr(task_idx=i)\n",
    "        # Inner loop adaptation FOMAML\n",
    "        for j in range(hp.inner_steps):\n",
    "            logits = fast_model(sx)\n",
    "            loss = F.cross_entropy(logits, sy)\n",
    "            grads = torch.autograd.grad(loss, fast_model.parameters(), create_graph=False)\n",
    "            # Update the fast_model parameters\n",
    "            current_inner_lr = lr_manager._get_inner_lr(step*hp.meta_batch_size+i)\n",
    "            for p, g in zip(fast_model.parameters(), grads):\n",
    "                p.data -= current_inner_lr*g\n",
    "        # Calculate the loss on query\n",
    "        query_logits = fast_model(qx)\n",
    "        query_loss = F.cross_entropy(query_logits, qy)\n",
    "        total_query_loss+= query_loss\n",
    "    # Average the loss across all the tasks and do meta-update\n",
    "    average_meta_ls = total_query_loss / hp.meta_batch_size\n",
    "    average_meta_ls.backward()\n",
    "    meta_optimizer.step()\n",
    "\n",
    "    # Validation and checkpointing\n",
    "    if (step+1) % steps_per_epoch == 0:\n",
    "        epoch = (step + 1) // steps_per_epoch\n",
    "        val_acc, val_loss = evaluate(\n",
    "            meta_model, hp.meta_val_families, hp.n_way,\n",
    "            hp.k_shot, hp.q_query, hp.inner_steps, hp.inner_lr\n",
    "        )\n",
    "        print(f\"Epoch {epoch}/{hp.traning_steps // steps_per_epoch} | Meta Loss: {average_meta_ls.item():.4f} | Val Acc: {val_acc:.4f}\")\n",
    "        if val_acc > best_val_acc:\n",
    "            best_val_acc = val_acc\n",
    "            print(f\"  -> New best validation accuracy! Saving model...\")\n",
    "            torch.save(meta_model.state_dict(), \"best_maml_model(2-5).pth\")\n",
    "            epochs_without_improvement = 0 # reset the param for early stopping\n",
    "        else: epochs_without_improvement+=1 # increment the no improvement counter\n",
    "        # The paper doesn't mention using validation loss for AOLLR, but it's a common practice.\n",
    "        if val_loss < best_val_loss:\n",
    "            best_val_loss = val_loss\n",
    "        # Call the plateau checker to adapt the outer learning rate\n",
    "        lr_manager._check_plateau(val_loss, best_val_loss)\n",
    "        if epochs_without_improvement>=early_stopping_patience:\n",
    "            print(f\"\\nValidation accuracy has not improved for {early_stopping_patience} epochs. Stopping early.\")\n",
    "            break\n",
    "\n",
    "print('MI-MAML Training Done !')"
   ]
  },
  {
   "cell_type": "code",
   "execution_count": 7,
   "id": "42114121",
   "metadata": {},
   "outputs": [
    {
     "name": "stdout",
     "output_type": "stream",
     "text": [
      "\n",
      "Training finished. Loading best model and evaluating on the test set.\n",
      "\n",
      "Final Test Accuracy: 0.5000\n"
     ]
    }
   ],
   "source": [
    "# --- MISSING PIECE: Final Testing ---\n",
    "print(\"\\nTraining finished. Loading best model and evaluating on the test set.\")\n",
    "meta_model.load_state_dict(torch.load(\"best_maml_model.pth\"))\n",
    "#test_accuracy = evaluate(meta_model, hp.meta_testing_families, hp.n_way, hp.k_shot, hp.q_query)\n",
    "test_acc, test_loss = evaluate(\n",
    "            meta_model, hp.meta_testing_families, hp.n_way,\n",
    "            hp.k_shot, hp.q_query, hp.inner_steps, hp.inner_lr\n",
    "        )\n",
    "print(f\"\\nFinal Test Accuracy: {test_acc:.4f}\")"
   ]
  },
  {
   "cell_type": "code",
   "execution_count": 13,
   "id": "f4403dad",
   "metadata": {},
   "outputs": [
    {
     "data": {
      "text/plain": [
       "Hyperparameters(n_way=2, k_shot=5, q_query=15, inner_lr=0.01, meta_lr=0.001, meta_batch_size=16, traning_steps=10000, inner_steps=5, meta_training_families=['Adialer.C', 'Agent.FYI', 'Allaple.A', 'Alueron.gen!J', 'Autorun.K', 'C2LOP.gen!g', 'Lolyda.AA2', 'Lolyda.AT', 'Rbot!gen', 'Skintrim.N', 'Swizzor.gen!E', 'Swizzor.gen!I', 'VB.AT', 'Wintrim.BX', 'Yuner.A'], meta_testing_families=['Dialplatform.B', 'Allaple.L', 'C2LOP.P', 'Lolyda.AA1', 'Malex.gen!J'], meta_val_families=['Dontovo.A', 'Fakerean', 'Instantaccess', 'Lolyda.AA3', 'Obfuscator.AD'])"
      ]
     },
     "execution_count": 13,
     "metadata": {},
     "output_type": "execute_result"
    }
   ],
   "source": [
    "hp"
   ]
  },
  {
   "cell_type": "markdown",
   "id": "916bd482",
   "metadata": {},
   "source": [
    "# Observations:\n",
    "## Case 1: (2way, 1shot):\n",
    "    - Hyperparameters(n_way=2, k_shot=1, q_query=15, inner_lr=0.01, meta_lr=0.001, meta_batch_size=16,.....)\n",
    "    - Random test has 50 percent accuracy (equivalent to guess) = pretty bad\n",
    "    - stagnant validation accuracy\n",
    "    - unstable training\n",
    "## Case 2: (2way, 5shot): model has (2-5)\n",
    "    - Hyperparameters(n_way=2, k_shot=5, q_query=15, inner_lr=0.001, meta_lr=0.0002, meta_batch_size=16,.......)\n",
    "    - outer loop meta_lr will be updated after 10 consequent no changes in val_loss"
   ]
  },
  {
   "cell_type": "markdown",
   "id": "cea0c07d",
   "metadata": {},
   "source": [
    "# Actionable steps:\n",
    "- Tune the learning rates : `inner_lr = 0.001`,`meta_lr=0.0002`\n",
    "- increase `k_shot` since 1-shot is the hardest case\n",
    "- simplify augmentation: stack the same base image instead of 3 different `return torch.cat([base_tensor, base_tensor, base_tensor], dim=0)`\n",
    "- increase patience for learning rate scheduler: In your LearningRateManager, try increasing the patience value. Instead of checking if self.val_loss_plateau_counter >= self.inner_steps, try a fixed, larger number like if self.val_loss_plateau_counter >= 10."
   ]
  },
  {
   "cell_type": "markdown",
   "id": "bbb93c9d",
   "metadata": {},
   "source": [
    "# Sanity Checks"
   ]
  },
  {
   "cell_type": "code",
   "execution_count": 10,
   "id": "00f7407b",
   "metadata": {},
   "outputs": [
    {
     "name": "stdout",
     "output_type": "stream",
     "text": [
      "Displaying 5 support images for class 0...\n"
     ]
    },
    {
     "data": {
      "image/png": "[encoded data removed]",
      "text/plain": [
       "<Figure size 1000x300 with 5 Axes>"
      ]
     },
     "metadata": {},
     "output_type": "display_data"
    }
   ],
   "source": [
    "import matplotlib.pyplot as plt\n",
    "\n",
    "# Get one meta-batch\n",
    "support_x, support_y, query_x, query_y = sampler.sample()\n",
    "\n",
    "# Isolate the first task in the batch\n",
    "task_sx = support_x[0]\n",
    "task_sy = support_y[0]\n",
    "\n",
    "# Check labels for the first class (label 0)\n",
    "class_0_images = task_sx[task_sy == 0] # Get all support images for class 0\n",
    "\n",
    "print(f\"Displaying {len(class_0_images)} support images for class 0...\")\n",
    "fig, axes = plt.subplots(1, len(class_0_images), figsize=(10, 3))\n",
    "for i, img_tensor in enumerate(class_0_images):\n",
    "    # We only plot the first channel (the original grayscale image)\n",
    "    img = img_tensor[0].cpu().numpy()\n",
    "    axes[i].imshow(img, cmap='gray')\n",
    "    axes[i].set_title(f\"Label: 0\")\n",
    "    axes[i].axis('off')\n",
    "plt.show()"
   ]
  },
  {
   "cell_type": "code",
   "execution_count": 11,
   "id": "cb33f04d",
   "metadata": {},
   "outputs": [
    {
     "name": "stdout",
     "output_type": "stream",
     "text": [
      "--- Starting Sanity Check: Overfitting a single batch:mps ---\n"
     ]
    },
    {
     "name": "stderr",
     "output_type": "stream",
     "text": [
      "Sanity Check Training:  10%|█         | 10/100 [00:12<01:52,  1.25s/it]"
     ]
    },
    {
     "name": "stdout",
     "output_type": "stream",
     "text": [
      "\n",
      "Sanity Check Step 10, Last Task Query Loss: 0.0015\n"
     ]
    },
    {
     "name": "stderr",
     "output_type": "stream",
     "text": [
      "Sanity Check Training:  20%|██        | 20/100 [00:24<01:41,  1.26s/it]"
     ]
    },
    {
     "name": "stdout",
     "output_type": "stream",
     "text": [
      "\n",
      "Sanity Check Step 20, Last Task Query Loss: 0.0866\n"
     ]
    },
    {
     "name": "stderr",
     "output_type": "stream",
     "text": [
      "Sanity Check Training:  30%|███       | 30/100 [00:37<01:28,  1.27s/it]"
     ]
    },
    {
     "name": "stdout",
     "output_type": "stream",
     "text": [
      "\n",
      "Sanity Check Step 30, Last Task Query Loss: 0.0000\n"
     ]
    },
    {
     "name": "stderr",
     "output_type": "stream",
     "text": [
      "Sanity Check Training:  40%|████      | 40/100 [00:49<01:14,  1.24s/it]"
     ]
    },
    {
     "name": "stdout",
     "output_type": "stream",
     "text": [
      "\n",
      "Sanity Check Step 40, Last Task Query Loss: 0.0000\n"
     ]
    },
    {
     "name": "stderr",
     "output_type": "stream",
     "text": [
      "Sanity Check Training:  50%|█████     | 50/100 [01:01<01:02,  1.25s/it]"
     ]
    },
    {
     "name": "stdout",
     "output_type": "stream",
     "text": [
      "\n",
      "Sanity Check Step 50, Last Task Query Loss: 0.3034\n"
     ]
    },
    {
     "name": "stderr",
     "output_type": "stream",
     "text": [
      "Sanity Check Training:  60%|██████    | 60/100 [01:13<00:49,  1.25s/it]"
     ]
    },
    {
     "name": "stdout",
     "output_type": "stream",
     "text": [
      "\n",
      "Sanity Check Step 60, Last Task Query Loss: 0.0000\n"
     ]
    },
    {
     "name": "stderr",
     "output_type": "stream",
     "text": [
      "Sanity Check Training:  70%|███████   | 70/100 [01:26<00:38,  1.28s/it]"
     ]
    },
    {
     "name": "stdout",
     "output_type": "stream",
     "text": [
      "\n",
      "Sanity Check Step 70, Last Task Query Loss: 0.0003\n"
     ]
    },
    {
     "name": "stderr",
     "output_type": "stream",
     "text": [
      "Sanity Check Training:  80%|████████  | 80/100 [01:38<00:24,  1.24s/it]"
     ]
    },
    {
     "name": "stdout",
     "output_type": "stream",
     "text": [
      "\n",
      "Sanity Check Step 80, Last Task Query Loss: 0.0023\n"
     ]
    },
    {
     "name": "stderr",
     "output_type": "stream",
     "text": [
      "Sanity Check Training:  90%|█████████ | 90/100 [01:50<00:12,  1.30s/it]"
     ]
    },
    {
     "name": "stdout",
     "output_type": "stream",
     "text": [
      "\n",
      "Sanity Check Step 90, Last Task Query Loss: 0.0000\n"
     ]
    },
    {
     "name": "stderr",
     "output_type": "stream",
     "text": [
      "Sanity Check Training: 100%|██████████| 100/100 [02:02<00:00,  1.23s/it]"
     ]
    },
    {
     "name": "stdout",
     "output_type": "stream",
     "text": [
      "\n",
      "Sanity Check Step 100, Last Task Query Loss: 0.0000\n"
     ]
    },
    {
     "name": "stderr",
     "output_type": "stream",
     "text": [
      "\n"
     ]
    }
   ],
   "source": [
    "from tqdm import tqdm\n",
    "# --- Start of the Corrected Loop ---\n",
    "# This loop should be placed after you have sampled and moved your one fixed batch to the device.\n",
    "print(f\"--- Starting Sanity Check: Overfitting a single batch:{device} ---\")\n",
    "# Sample ONE fixed batch of data\n",
    "fixed_support_x, fixed_support_y, fixed_query_x, fixed_query_y = sampler.sample()\n",
    "\n",
    "# Move it to the device once\n",
    "fixed_support_x = fixed_support_x.to(device)\n",
    "fixed_support_y = fixed_support_y.to(device)\n",
    "fixed_query_x = fixed_query_x.to(device)\n",
    "fixed_query_y = fixed_query_y.to(device)\n",
    "for step in tqdm(range(100), desc=\"Sanity Check Training\"):\n",
    "    # Use the fixed batch of data for every step in this sanity check\n",
    "    support_x, support_y = fixed_support_x, fixed_support_y\n",
    "    query_x, query_y = fixed_query_x, fixed_query_y\n",
    "\n",
    "    # We must zero the gradients of the main model at the start of each meta-step\n",
    "    meta_optimizer.zero_grad()\n",
    "\n",
    "    # Loop over all tasks in the meta-batch\n",
    "    for i in range(hp.meta_batch_size):\n",
    "        sx, sy = support_x[i], support_y[i]\n",
    "        qx, qy = query_x[i], query_y[i]\n",
    "\n",
    "        # 1. Create a temporary model for this task's adaptation\n",
    "        fast_model = copy.deepcopy(meta_model)\n",
    "\n",
    "        # 2. Adapt on the support set using a fresh inner optimizer\n",
    "        #current_inner_lr = lr_manager._get_inner_lr(step * hp.meta_batch_size + i)\n",
    "        current_inner_lr = lr_manager._get_inner_lr(i)\n",
    "        inner_optimizer = optim.SGD(fast_model.parameters(), lr=current_inner_lr)\n",
    "        for _ in range(hp.inner_steps):\n",
    "            logits = fast_model(sx)\n",
    "            loss = F.cross_entropy(logits, sy)\n",
    "            inner_optimizer.zero_grad()\n",
    "            loss.backward()\n",
    "            inner_optimizer.step()\n",
    "\n",
    "        # 3. Calculate the meta-loss on the query set using the adapted model\n",
    "        query_loss = F.cross_entropy(fast_model(qx), qy)\n",
    "\n",
    "        # 4. THE FIX: Calculate gradients of this query loss w.r.t the fast_model's params.\n",
    "        # For FOMAML, these gradients are our approximation for the meta-gradient.\n",
    "        fast_grads = torch.autograd.grad(query_loss, fast_model.parameters())\n",
    "\n",
    "        # 5. Manually add these gradients to the *meta_model's* .grad attributes.\n",
    "        # This transfers the learning from the temporary model back to the main one.\n",
    "        with torch.no_grad():\n",
    "            for p_meta, g_fast in zip(meta_model.parameters(), fast_grads):\n",
    "                # We add the gradient divided by the batch size to average them across all tasks\n",
    "                if p_meta.grad is None:\n",
    "                    p_meta.grad = g_fast / hp.meta_batch_size\n",
    "                else:\n",
    "                    p_meta.grad += g_fast / hp.meta_batch_size\n",
    "\n",
    "    # After accumulating gradients from all tasks, take one meta-step\n",
    "    meta_optimizer.step()\n",
    "\n",
    "    # For logging, we check the loss of the last task in the batch\n",
    "    if (step + 1) % 10 == 0:\n",
    "        print(f\"\\nSanity Check Step {step+1}, Last Task Query Loss: {query_loss.item():.4f}\")"
   ]
  },
  {
   "cell_type": "code",
   "execution_count": null,
   "id": "cdc0a23f",
   "metadata": {},
   "outputs": [
    {
     "name": "stdout",
     "output_type": "stream",
     "text": [
      "--- Starting Simplest Task Sanity Check ---\n",
      "Epoch 1/10 | Loss: 0.0052 | Accuracy: 0.9980\n",
      "Epoch 2/10 | Loss: 0.0000 | Accuracy: 1.0000\n",
      "Epoch 3/10 | Loss: 0.0000 | Accuracy: 1.0000\n"
     ]
    },
    {
     "ename": "KeyboardInterrupt",
     "evalue": "",
     "output_type": "error",
     "traceback": [
      "\u001b[31m---------------------------------------------------------------------------\u001b[39m",
      "\u001b[31mKeyboardInterrupt\u001b[39m                         Traceback (most recent call last)",
      "\u001b[36mCell\u001b[39m\u001b[36m \u001b[39m\u001b[32mIn[28]\u001b[39m\u001b[32m, line 64\u001b[39m\n\u001b[32m     62\u001b[39m logits = simple_model(images)\n\u001b[32m     63\u001b[39m loss = F.cross_entropy(logits, labels)\n\u001b[32m---> \u001b[39m\u001b[32m64\u001b[39m \u001b[43mloss\u001b[49m\u001b[43m.\u001b[49m\u001b[43mbackward\u001b[49m\u001b[43m(\u001b[49m\u001b[43m)\u001b[49m\n\u001b[32m     65\u001b[39m optimizer.step()\n\u001b[32m     67\u001b[39m total_loss += loss.item()\n",
      "\u001b[36mFile \u001b[39m\u001b[32m~/GITHUB/MAML/maml/lib/python3.13/site-packages/torch/_tensor.py:647\u001b[39m, in \u001b[36mTensor.backward\u001b[39m\u001b[34m(self, gradient, retain_graph, create_graph, inputs)\u001b[39m\n\u001b[32m    637\u001b[39m \u001b[38;5;28;01mif\u001b[39;00m has_torch_function_unary(\u001b[38;5;28mself\u001b[39m):\n\u001b[32m    638\u001b[39m     \u001b[38;5;28;01mreturn\u001b[39;00m handle_torch_function(\n\u001b[32m    639\u001b[39m         Tensor.backward,\n\u001b[32m    640\u001b[39m         (\u001b[38;5;28mself\u001b[39m,),\n\u001b[32m   (...)\u001b[39m\u001b[32m    645\u001b[39m         inputs=inputs,\n\u001b[32m    646\u001b[39m     )\n\u001b[32m--> \u001b[39m\u001b[32m647\u001b[39m \u001b[43mtorch\u001b[49m\u001b[43m.\u001b[49m\u001b[43mautograd\u001b[49m\u001b[43m.\u001b[49m\u001b[43mbackward\u001b[49m\u001b[43m(\u001b[49m\n\u001b[32m    648\u001b[39m \u001b[43m    \u001b[49m\u001b[38;5;28;43mself\u001b[39;49m\u001b[43m,\u001b[49m\u001b[43m \u001b[49m\u001b[43mgradient\u001b[49m\u001b[43m,\u001b[49m\u001b[43m \u001b[49m\u001b[43mretain_graph\u001b[49m\u001b[43m,\u001b[49m\u001b[43m \u001b[49m\u001b[43mcreate_graph\u001b[49m\u001b[43m,\u001b[49m\u001b[43m \u001b[49m\u001b[43minputs\u001b[49m\u001b[43m=\u001b[49m\u001b[43minputs\u001b[49m\n\u001b[32m    649\u001b[39m \u001b[43m\u001b[49m\u001b[43m)\u001b[49m\n",
      "\u001b[36mFile \u001b[39m\u001b[32m~/GITHUB/MAML/maml/lib/python3.13/site-packages/torch/autograd/__init__.py:354\u001b[39m, in \u001b[36mbackward\u001b[39m\u001b[34m(tensors, grad_tensors, retain_graph, create_graph, grad_variables, inputs)\u001b[39m\n\u001b[32m    349\u001b[39m     retain_graph = create_graph\n\u001b[32m    351\u001b[39m \u001b[38;5;66;03m# The reason we repeat the same comment below is that\u001b[39;00m\n\u001b[32m    352\u001b[39m \u001b[38;5;66;03m# some Python versions print out the first line of a multi-line function\u001b[39;00m\n\u001b[32m    353\u001b[39m \u001b[38;5;66;03m# calls in the traceback and some print out the last line\u001b[39;00m\n\u001b[32m--> \u001b[39m\u001b[32m354\u001b[39m \u001b[43m_engine_run_backward\u001b[49m\u001b[43m(\u001b[49m\n\u001b[32m    355\u001b[39m \u001b[43m    \u001b[49m\u001b[43mtensors\u001b[49m\u001b[43m,\u001b[49m\n\u001b[32m    356\u001b[39m \u001b[43m    \u001b[49m\u001b[43mgrad_tensors_\u001b[49m\u001b[43m,\u001b[49m\n\u001b[32m    357\u001b[39m \u001b[43m    \u001b[49m\u001b[43mretain_graph\u001b[49m\u001b[43m,\u001b[49m\n\u001b[32m    358\u001b[39m \u001b[43m    \u001b[49m\u001b[43mcreate_graph\u001b[49m\u001b[43m,\u001b[49m\n\u001b[32m    359\u001b[39m \u001b[43m    \u001b[49m\u001b[43minputs_tuple\u001b[49m\u001b[43m,\u001b[49m\n\u001b[32m    360\u001b[39m \u001b[43m    \u001b[49m\u001b[43mallow_unreachable\u001b[49m\u001b[43m=\u001b[49m\u001b[38;5;28;43;01mTrue\u001b[39;49;00m\u001b[43m,\u001b[49m\n\u001b[32m    361\u001b[39m \u001b[43m    \u001b[49m\u001b[43maccumulate_grad\u001b[49m\u001b[43m=\u001b[49m\u001b[38;5;28;43;01mTrue\u001b[39;49;00m\u001b[43m,\u001b[49m\n\u001b[32m    362\u001b[39m \u001b[43m\u001b[49m\u001b[43m)\u001b[49m\n",
      "\u001b[36mFile \u001b[39m\u001b[32m~/GITHUB/MAML/maml/lib/python3.13/site-packages/torch/autograd/graph.py:829\u001b[39m, in \u001b[36m_engine_run_backward\u001b[39m\u001b[34m(t_outputs, *args, **kwargs)\u001b[39m\n\u001b[32m    827\u001b[39m     unregister_hooks = _register_logging_hooks_on_whole_graph(t_outputs)\n\u001b[32m    828\u001b[39m \u001b[38;5;28;01mtry\u001b[39;00m:\n\u001b[32m--> \u001b[39m\u001b[32m829\u001b[39m     \u001b[38;5;28;01mreturn\u001b[39;00m \u001b[43mVariable\u001b[49m\u001b[43m.\u001b[49m\u001b[43m_execution_engine\u001b[49m\u001b[43m.\u001b[49m\u001b[43mrun_backward\u001b[49m\u001b[43m(\u001b[49m\u001b[43m  \u001b[49m\u001b[38;5;66;43;03m# Calls into the C++ engine to run the backward pass\u001b[39;49;00m\n\u001b[32m    830\u001b[39m \u001b[43m        \u001b[49m\u001b[43mt_outputs\u001b[49m\u001b[43m,\u001b[49m\u001b[43m \u001b[49m\u001b[43m*\u001b[49m\u001b[43margs\u001b[49m\u001b[43m,\u001b[49m\u001b[43m \u001b[49m\u001b[43m*\u001b[49m\u001b[43m*\u001b[49m\u001b[43mkwargs\u001b[49m\n\u001b[32m    831\u001b[39m \u001b[43m    \u001b[49m\u001b[43m)\u001b[49m  \u001b[38;5;66;03m# Calls into the C++ engine to run the backward pass\u001b[39;00m\n\u001b[32m    832\u001b[39m \u001b[38;5;28;01mfinally\u001b[39;00m:\n\u001b[32m    833\u001b[39m     \u001b[38;5;28;01mif\u001b[39;00m attach_logging_hooks:\n",
      "\u001b[31mKeyboardInterrupt\u001b[39m: "
     ]
    }
   ],
   "source": [
    "import torch\n",
    "import torch.optim as optim\n",
    "import torch.nn.functional as F\n",
    "from torch.utils.data import DataLoader, Dataset\n",
    "import os\n",
    "from PIL import Image\n",
    "import random\n",
    "\n",
    "# --- This is a simplified, standard PyTorch Dataset ---\n",
    "# It proves the model is right, only MAML is the issue\n",
    "class SimpleMalwareDataset(Dataset):\n",
    "    def __init__(self, resized_folder, families):\n",
    "        self.image_paths = []\n",
    "        self.labels = []\n",
    "        for i, family in enumerate(families):\n",
    "            family_path = os.path.join(resized_folder, family)\n",
    "            for img_name in os.listdir(family_path):\n",
    "                self.image_paths.append(os.path.join(family_path, img_name))\n",
    "                self.labels.append(i)\n",
    "        # You would instantiate your augmenters here\n",
    "        # self.inserter_class = CodeInserter\n",
    "        # self.duplicator_class = CodeDuplicator\n",
    "\n",
    "    def __len__(self):\n",
    "        return len(self.image_paths)\n",
    "\n",
    "    def __getitem__(self, idx):\n",
    "        path = self.image_paths[idx]\n",
    "        label = self.labels[idx]\n",
    "\n",
    "        # Load and augment the image to create the 3-channel input\n",
    "        base_img = Image.open(path).convert(\"L\") # Ensure it's grayscale\n",
    "\n",
    "        # NOTE: For this simple test, we will just stack the original image 3 times.\n",
    "        # This confirms the model works before adding complex augmentations.\n",
    "        base_tensor = transforms.ToTensor()(base_img)\n",
    "        input_tensor = torch.cat([base_tensor, base_tensor, base_tensor], dim=0)\n",
    "\n",
    "        return input_tensor, torch.tensor(label, dtype=torch.long)\n",
    "\n",
    "# --- The Sanity Check Script ---\n",
    "if __name__ == '__main__':\n",
    "    device = torch.device(\"cuda\" if torch.cuda.is_available() else \"cpu\")\n",
    "\n",
    "    # 1. Create a dataset with just two classes\n",
    "    simple_dataset = SimpleMalwareDataset('malimg_resized', ['Agent.FYI', 'Allaple.A'])\n",
    "    simple_dataloader = DataLoader(simple_dataset, batch_size=32, shuffle=True)\n",
    "\n",
    "    # 2. Instantiate the model and a standard optimizer\n",
    "    # The model now has 2 output classes\n",
    "    simple_model = CNN(in_channel=3, n_way=2).to(device)\n",
    "    optimizer = optim.Adam(simple_model.parameters(), lr=0.001)\n",
    "\n",
    "    print(\"--- Starting Simplest Task Sanity Check ---\")\n",
    "    # 3. A standard training loop\n",
    "    for epoch in range(10):\n",
    "        total_loss = 0\n",
    "        total_correct = 0\n",
    "        for images, labels in simple_dataloader:\n",
    "            images, labels = images.to(device), labels.to(device)\n",
    "\n",
    "            optimizer.zero_grad()\n",
    "            logits = simple_model(images)\n",
    "            loss = F.cross_entropy(logits, labels)\n",
    "            loss.backward()\n",
    "            optimizer.step()\n",
    "\n",
    "            total_loss += loss.item()\n",
    "            preds = torch.argmax(logits, dim=1)\n",
    "            total_correct += (preds == labels).sum().item()\n",
    "\n",
    "        avg_loss = total_loss / len(simple_dataloader)\n",
    "        accuracy = total_correct / len(simple_dataset)\n",
    "        print(f\"Epoch {epoch+1}/10 | Loss: {avg_loss:.4f} | Accuracy: {accuracy:.4f}\")"
   ]
  },
  {
   "cell_type": "code",
   "execution_count": null,
   "id": "2d89779a",
   "metadata": {},
   "outputs": [],
   "source": []
  }
 ],
 "metadata": {
  "kernelspec": {
   "display_name": "maml",
   "language": "python",
   "name": "python3"
  },
  "language_info": {
   "codemirror_mode": {
    "name": "ipython",
    "version": 3
   },
   "file_extension": ".py",
   "mimetype": "text/x-python",
   "name": "python",
   "nbconvert_exporter": "python",
   "pygments_lexer": "ipython3",
   "version": "3.13.3"
  }
 },
 "nbformat": 4,
 "nbformat_minor": 5
}
